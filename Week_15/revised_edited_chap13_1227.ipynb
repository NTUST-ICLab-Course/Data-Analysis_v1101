{
 "cells": [
  {
   "cell_type": "markdown",
   "metadata": {},
   "source": [
    "# § Chapter13 Introduction to Modeling Libraries "
   ]
  },
  {
   "cell_type": "markdown",
   "metadata": {},
   "source": [
    "## §13.1 Interfacing Between pandas and Model Code"
   ]
  },
  {
   "cell_type": "markdown",
   "metadata": {},
   "source": [
    "## §13.2 Creating Model Descriptions with Patsy\n",
    "-\tData Transformations in Patsy Formulas\n",
    "-\tCategorical Data and Patsy"
   ]
  },
  {
   "cell_type": "markdown",
   "metadata": {},
   "source": [
    "## §13.3 Introduction to statsmodels\n",
    "-\tEstimating Linear Models\n",
    "-\tEstimating Time Series Processes"
   ]
  },
  {
   "cell_type": "markdown",
   "metadata": {},
   "source": [
    "## §13.4 Introduction to scikit-learn"
   ]
  },
  {
   "cell_type": "code",
   "execution_count": 1,
   "metadata": {},
   "outputs": [],
   "source": [
    "import numpy as np\n",
    "import pandas as pd\n",
    "np.random.seed(12345)\n",
    "import matplotlib.pyplot as plt\n",
    "plt.rc('figure', figsize=(10, 6))\n",
    "PREVIOUS_MAX_ROWS = pd.options.display.max_rows #display max raw in dataframe\n",
    "pd.options.display.max_rows = 20\n",
    "np.set_printoptions(precision=4, suppress=True) #precision:控制打印精度(小數位數), suppress 是否要改以科學記號顯示\n",
    "plt.rcParams['axes.unicode_minus']=False # 用來正常顯示負號\n",
    "NUMEXPR_MAX_THREADS = 8"
   ]
  },
  {
   "cell_type": "markdown",
   "metadata": {},
   "source": [
    "## §13.1 Interfacing Between pandas and Model Code"
   ]
  },
  {
   "cell_type": "code",
   "execution_count": 2,
   "metadata": {},
   "outputs": [
    {
     "data": {
      "text/html": [
       "<div>\n",
       "<style scoped>\n",
       "    .dataframe tbody tr th:only-of-type {\n",
       "        vertical-align: middle;\n",
       "    }\n",
       "\n",
       "    .dataframe tbody tr th {\n",
       "        vertical-align: top;\n",
       "    }\n",
       "\n",
       "    .dataframe thead th {\n",
       "        text-align: right;\n",
       "    }\n",
       "</style>\n",
       "<table border=\"1\" class=\"dataframe\">\n",
       "  <thead>\n",
       "    <tr style=\"text-align: right;\">\n",
       "      <th></th>\n",
       "      <th>x0</th>\n",
       "      <th>x1</th>\n",
       "      <th>y</th>\n",
       "    </tr>\n",
       "  </thead>\n",
       "  <tbody>\n",
       "    <tr>\n",
       "      <th>0</th>\n",
       "      <td>1</td>\n",
       "      <td>0.01</td>\n",
       "      <td>-1.5</td>\n",
       "    </tr>\n",
       "    <tr>\n",
       "      <th>1</th>\n",
       "      <td>2</td>\n",
       "      <td>-0.01</td>\n",
       "      <td>0.0</td>\n",
       "    </tr>\n",
       "    <tr>\n",
       "      <th>2</th>\n",
       "      <td>3</td>\n",
       "      <td>0.25</td>\n",
       "      <td>3.6</td>\n",
       "    </tr>\n",
       "    <tr>\n",
       "      <th>3</th>\n",
       "      <td>4</td>\n",
       "      <td>-4.10</td>\n",
       "      <td>1.3</td>\n",
       "    </tr>\n",
       "    <tr>\n",
       "      <th>4</th>\n",
       "      <td>5</td>\n",
       "      <td>0.00</td>\n",
       "      <td>-2.0</td>\n",
       "    </tr>\n",
       "  </tbody>\n",
       "</table>\n",
       "</div>"
      ],
      "text/plain": [
       "   x0    x1    y\n",
       "0   1  0.01 -1.5\n",
       "1   2 -0.01  0.0\n",
       "2   3  0.25  3.6\n",
       "3   4 -4.10  1.3\n",
       "4   5  0.00 -2.0"
      ]
     },
     "execution_count": 2,
     "metadata": {},
     "output_type": "execute_result"
    }
   ],
   "source": [
    "import pandas as pd\n",
    "import numpy as np\n",
    "data = pd.DataFrame({\n",
    "    'x0': [1, 2, 3, 4, 5],\n",
    "    'x1': [0.01, -0.01, 0.25, -4.1, 0.],\n",
    "    'y': [-1.5, 0., 3.6, 1.3, -2.]})\n",
    "data"
   ]
  },
  {
   "cell_type": "code",
   "execution_count": 3,
   "metadata": {},
   "outputs": [
    {
     "data": {
      "text/plain": [
       "Index(['x0', 'x1', 'y'], dtype='object')"
      ]
     },
     "execution_count": 3,
     "metadata": {},
     "output_type": "execute_result"
    }
   ],
   "source": [
    "data.columns"
   ]
  },
  {
   "cell_type": "code",
   "execution_count": 4,
   "metadata": {},
   "outputs": [
    {
     "data": {
      "text/plain": [
       "array([[ 1.  ,  0.01, -1.5 ],\n",
       "       [ 2.  , -0.01,  0.  ],\n",
       "       [ 3.  ,  0.25,  3.6 ],\n",
       "       [ 4.  , -4.1 ,  1.3 ],\n",
       "       [ 5.  ,  0.  , -2.  ]])"
      ]
     },
     "execution_count": 4,
     "metadata": {},
     "output_type": "execute_result"
    }
   ],
   "source": [
    "# transform pd.dataframe to np.array\n",
    "data.values"
   ]
  },
  {
   "cell_type": "code",
   "execution_count": 5,
   "metadata": {},
   "outputs": [
    {
     "data": {
      "text/html": [
       "<div>\n",
       "<style scoped>\n",
       "    .dataframe tbody tr th:only-of-type {\n",
       "        vertical-align: middle;\n",
       "    }\n",
       "\n",
       "    .dataframe tbody tr th {\n",
       "        vertical-align: top;\n",
       "    }\n",
       "\n",
       "    .dataframe thead th {\n",
       "        text-align: right;\n",
       "    }\n",
       "</style>\n",
       "<table border=\"1\" class=\"dataframe\">\n",
       "  <thead>\n",
       "    <tr style=\"text-align: right;\">\n",
       "      <th></th>\n",
       "      <th>one</th>\n",
       "      <th>two</th>\n",
       "      <th>three</th>\n",
       "    </tr>\n",
       "  </thead>\n",
       "  <tbody>\n",
       "    <tr>\n",
       "      <th>0</th>\n",
       "      <td>1.0</td>\n",
       "      <td>0.01</td>\n",
       "      <td>-1.5</td>\n",
       "    </tr>\n",
       "    <tr>\n",
       "      <th>1</th>\n",
       "      <td>2.0</td>\n",
       "      <td>-0.01</td>\n",
       "      <td>0.0</td>\n",
       "    </tr>\n",
       "    <tr>\n",
       "      <th>2</th>\n",
       "      <td>3.0</td>\n",
       "      <td>0.25</td>\n",
       "      <td>3.6</td>\n",
       "    </tr>\n",
       "    <tr>\n",
       "      <th>3</th>\n",
       "      <td>4.0</td>\n",
       "      <td>-4.10</td>\n",
       "      <td>1.3</td>\n",
       "    </tr>\n",
       "    <tr>\n",
       "      <th>4</th>\n",
       "      <td>5.0</td>\n",
       "      <td>0.00</td>\n",
       "      <td>-2.0</td>\n",
       "    </tr>\n",
       "  </tbody>\n",
       "</table>\n",
       "</div>"
      ],
      "text/plain": [
       "   one   two  three\n",
       "0  1.0  0.01   -1.5\n",
       "1  2.0 -0.01    0.0\n",
       "2  3.0  0.25    3.6\n",
       "3  4.0 -4.10    1.3\n",
       "4  5.0  0.00   -2.0"
      ]
     },
     "execution_count": 5,
     "metadata": {},
     "output_type": "execute_result"
    }
   ],
   "source": [
    "# transform np.array to pd.dataframe\n",
    "df2 = pd.DataFrame(data.values, columns=['one', 'two', 'three'])\n",
    "df2"
   ]
  },
  {
   "cell_type": "code",
   "execution_count": 6,
   "metadata": {},
   "outputs": [
    {
     "data": {
      "text/html": [
       "<div>\n",
       "<style scoped>\n",
       "    .dataframe tbody tr th:only-of-type {\n",
       "        vertical-align: middle;\n",
       "    }\n",
       "\n",
       "    .dataframe tbody tr th {\n",
       "        vertical-align: top;\n",
       "    }\n",
       "\n",
       "    .dataframe thead th {\n",
       "        text-align: right;\n",
       "    }\n",
       "</style>\n",
       "<table border=\"1\" class=\"dataframe\">\n",
       "  <thead>\n",
       "    <tr style=\"text-align: right;\">\n",
       "      <th></th>\n",
       "      <th>x0</th>\n",
       "      <th>x1</th>\n",
       "      <th>y</th>\n",
       "    </tr>\n",
       "  </thead>\n",
       "  <tbody>\n",
       "    <tr>\n",
       "      <th>0</th>\n",
       "      <td>1</td>\n",
       "      <td>0.01</td>\n",
       "      <td>-1.5</td>\n",
       "    </tr>\n",
       "    <tr>\n",
       "      <th>1</th>\n",
       "      <td>2</td>\n",
       "      <td>-0.01</td>\n",
       "      <td>0.0</td>\n",
       "    </tr>\n",
       "    <tr>\n",
       "      <th>2</th>\n",
       "      <td>3</td>\n",
       "      <td>0.25</td>\n",
       "      <td>3.6</td>\n",
       "    </tr>\n",
       "    <tr>\n",
       "      <th>3</th>\n",
       "      <td>4</td>\n",
       "      <td>-4.10</td>\n",
       "      <td>1.3</td>\n",
       "    </tr>\n",
       "    <tr>\n",
       "      <th>4</th>\n",
       "      <td>5</td>\n",
       "      <td>0.00</td>\n",
       "      <td>-2.0</td>\n",
       "    </tr>\n",
       "  </tbody>\n",
       "</table>\n",
       "</div>"
      ],
      "text/plain": [
       "   x0    x1    y\n",
       "0   1  0.01 -1.5\n",
       "1   2 -0.01  0.0\n",
       "2   3  0.25  3.6\n",
       "3   4 -4.10  1.3\n",
       "4   5  0.00 -2.0"
      ]
     },
     "execution_count": 6,
     "metadata": {},
     "output_type": "execute_result"
    }
   ],
   "source": [
    "data"
   ]
  },
  {
   "cell_type": "markdown",
   "metadata": {},
   "source": [
    "$$\n",
    "y = X \\beta\n",
    "$$\n",
    "\n",
    "Solution to the least square:\n",
    "$$\n",
    "\\hat \\beta = (X^T X)^{-1} X^T y\n",
    "$$"
   ]
  },
  {
   "cell_type": "code",
   "execution_count": 8,
   "metadata": {},
   "outputs": [
    {
     "data": {
      "text/plain": [
       "array([[ 1.  ,  0.01],\n",
       "       [ 2.  , -0.01],\n",
       "       [ 3.  ,  0.25],\n",
       "       [ 4.  , -4.1 ],\n",
       "       [ 5.  ,  0.  ]])"
      ]
     },
     "execution_count": 8,
     "metadata": {},
     "output_type": "execute_result"
    }
   ],
   "source": [
    "model_cols = ['x0', 'x1']\n",
    "data.loc[:, model_cols].values"
   ]
  },
  {
   "cell_type": "code",
   "execution_count": 9,
   "metadata": {},
   "outputs": [
    {
     "data": {
      "text/html": [
       "<div>\n",
       "<style scoped>\n",
       "    .dataframe tbody tr th:only-of-type {\n",
       "        vertical-align: middle;\n",
       "    }\n",
       "\n",
       "    .dataframe tbody tr th {\n",
       "        vertical-align: top;\n",
       "    }\n",
       "\n",
       "    .dataframe thead th {\n",
       "        text-align: right;\n",
       "    }\n",
       "</style>\n",
       "<table border=\"1\" class=\"dataframe\">\n",
       "  <thead>\n",
       "    <tr style=\"text-align: right;\">\n",
       "      <th></th>\n",
       "      <th>x0</th>\n",
       "      <th>x1</th>\n",
       "      <th>y</th>\n",
       "      <th>category</th>\n",
       "    </tr>\n",
       "  </thead>\n",
       "  <tbody>\n",
       "    <tr>\n",
       "      <th>0</th>\n",
       "      <td>1</td>\n",
       "      <td>0.01</td>\n",
       "      <td>-1.5</td>\n",
       "      <td>a</td>\n",
       "    </tr>\n",
       "    <tr>\n",
       "      <th>1</th>\n",
       "      <td>2</td>\n",
       "      <td>-0.01</td>\n",
       "      <td>0.0</td>\n",
       "      <td>b</td>\n",
       "    </tr>\n",
       "    <tr>\n",
       "      <th>2</th>\n",
       "      <td>3</td>\n",
       "      <td>0.25</td>\n",
       "      <td>3.6</td>\n",
       "      <td>a</td>\n",
       "    </tr>\n",
       "    <tr>\n",
       "      <th>3</th>\n",
       "      <td>4</td>\n",
       "      <td>-4.10</td>\n",
       "      <td>1.3</td>\n",
       "      <td>a</td>\n",
       "    </tr>\n",
       "    <tr>\n",
       "      <th>4</th>\n",
       "      <td>5</td>\n",
       "      <td>0.00</td>\n",
       "      <td>-2.0</td>\n",
       "      <td>b</td>\n",
       "    </tr>\n",
       "  </tbody>\n",
       "</table>\n",
       "</div>"
      ],
      "text/plain": [
       "   x0    x1    y category\n",
       "0   1  0.01 -1.5        a\n",
       "1   2 -0.01  0.0        b\n",
       "2   3  0.25  3.6        a\n",
       "3   4 -4.10  1.3        a\n",
       "4   5  0.00 -2.0        b"
      ]
     },
     "execution_count": 9,
     "metadata": {},
     "output_type": "execute_result"
    }
   ],
   "source": [
    "data['category'] = pd.Categorical(['a', 'b', 'a', 'a', 'b'],\n",
    "                                  categories=['a', 'b'])\n",
    "data"
   ]
  },
  {
   "cell_type": "code",
   "execution_count": 10,
   "metadata": {},
   "outputs": [
    {
     "data": {
      "text/plain": [
       "0    a\n",
       "1    b\n",
       "2    a\n",
       "3    a\n",
       "4    b\n",
       "Name: category, dtype: category\n",
       "Categories (2, object): ['a', 'b']"
      ]
     },
     "execution_count": 10,
     "metadata": {},
     "output_type": "execute_result"
    }
   ],
   "source": [
    "data.category"
   ]
  },
  {
   "cell_type": "code",
   "execution_count": 11,
   "metadata": {},
   "outputs": [
    {
     "data": {
      "text/html": [
       "<div>\n",
       "<style scoped>\n",
       "    .dataframe tbody tr th:only-of-type {\n",
       "        vertical-align: middle;\n",
       "    }\n",
       "\n",
       "    .dataframe tbody tr th {\n",
       "        vertical-align: top;\n",
       "    }\n",
       "\n",
       "    .dataframe thead th {\n",
       "        text-align: right;\n",
       "    }\n",
       "</style>\n",
       "<table border=\"1\" class=\"dataframe\">\n",
       "  <thead>\n",
       "    <tr style=\"text-align: right;\">\n",
       "      <th></th>\n",
       "      <th>category_a</th>\n",
       "      <th>category_b</th>\n",
       "    </tr>\n",
       "  </thead>\n",
       "  <tbody>\n",
       "    <tr>\n",
       "      <th>0</th>\n",
       "      <td>1</td>\n",
       "      <td>0</td>\n",
       "    </tr>\n",
       "    <tr>\n",
       "      <th>1</th>\n",
       "      <td>0</td>\n",
       "      <td>1</td>\n",
       "    </tr>\n",
       "    <tr>\n",
       "      <th>2</th>\n",
       "      <td>1</td>\n",
       "      <td>0</td>\n",
       "    </tr>\n",
       "    <tr>\n",
       "      <th>3</th>\n",
       "      <td>1</td>\n",
       "      <td>0</td>\n",
       "    </tr>\n",
       "    <tr>\n",
       "      <th>4</th>\n",
       "      <td>0</td>\n",
       "      <td>1</td>\n",
       "    </tr>\n",
       "  </tbody>\n",
       "</table>\n",
       "</div>"
      ],
      "text/plain": [
       "   category_a  category_b\n",
       "0           1           0\n",
       "1           0           1\n",
       "2           1           0\n",
       "3           1           0\n",
       "4           0           1"
      ]
     },
     "execution_count": 11,
     "metadata": {},
     "output_type": "execute_result"
    }
   ],
   "source": [
    "# get_dummies => Convert categorical variable into dummy/indicator variables.\n",
    "dummies = pd.get_dummies(data.category, prefix='category')\n",
    "dummies"
   ]
  },
  {
   "cell_type": "code",
   "execution_count": 12,
   "metadata": {},
   "outputs": [
    {
     "data": {
      "text/html": [
       "<div>\n",
       "<style scoped>\n",
       "    .dataframe tbody tr th:only-of-type {\n",
       "        vertical-align: middle;\n",
       "    }\n",
       "\n",
       "    .dataframe tbody tr th {\n",
       "        vertical-align: top;\n",
       "    }\n",
       "\n",
       "    .dataframe thead th {\n",
       "        text-align: right;\n",
       "    }\n",
       "</style>\n",
       "<table border=\"1\" class=\"dataframe\">\n",
       "  <thead>\n",
       "    <tr style=\"text-align: right;\">\n",
       "      <th></th>\n",
       "      <th>x0</th>\n",
       "      <th>x1</th>\n",
       "      <th>y</th>\n",
       "      <th>category_a</th>\n",
       "      <th>category_b</th>\n",
       "    </tr>\n",
       "  </thead>\n",
       "  <tbody>\n",
       "    <tr>\n",
       "      <th>0</th>\n",
       "      <td>1</td>\n",
       "      <td>0.01</td>\n",
       "      <td>-1.5</td>\n",
       "      <td>1</td>\n",
       "      <td>0</td>\n",
       "    </tr>\n",
       "    <tr>\n",
       "      <th>1</th>\n",
       "      <td>2</td>\n",
       "      <td>-0.01</td>\n",
       "      <td>0.0</td>\n",
       "      <td>0</td>\n",
       "      <td>1</td>\n",
       "    </tr>\n",
       "    <tr>\n",
       "      <th>2</th>\n",
       "      <td>3</td>\n",
       "      <td>0.25</td>\n",
       "      <td>3.6</td>\n",
       "      <td>1</td>\n",
       "      <td>0</td>\n",
       "    </tr>\n",
       "    <tr>\n",
       "      <th>3</th>\n",
       "      <td>4</td>\n",
       "      <td>-4.10</td>\n",
       "      <td>1.3</td>\n",
       "      <td>1</td>\n",
       "      <td>0</td>\n",
       "    </tr>\n",
       "    <tr>\n",
       "      <th>4</th>\n",
       "      <td>5</td>\n",
       "      <td>0.00</td>\n",
       "      <td>-2.0</td>\n",
       "      <td>0</td>\n",
       "      <td>1</td>\n",
       "    </tr>\n",
       "  </tbody>\n",
       "</table>\n",
       "</div>"
      ],
      "text/plain": [
       "   x0    x1    y  category_a  category_b\n",
       "0   1  0.01 -1.5           1           0\n",
       "1   2 -0.01  0.0           0           1\n",
       "2   3  0.25  3.6           1           0\n",
       "3   4 -4.10  1.3           1           0\n",
       "4   5  0.00 -2.0           0           1"
      ]
     },
     "execution_count": 12,
     "metadata": {},
     "output_type": "execute_result"
    }
   ],
   "source": [
    "data_with_dummies = data.drop('category', axis=1).join(dummies)\n",
    "data_with_dummies"
   ]
  },
  {
   "cell_type": "markdown",
   "metadata": {},
   "source": [
    "## §13.2 Creating Model Descriptions with Patsy\n",
    "-\tData Transformations in Patsy Formulas\n",
    "-\tCategorical Data and Patsy"
   ]
  },
  {
   "cell_type": "markdown",
   "metadata": {},
   "source": [
    "## Linear regression basics and implementation in Python\n",
    "https://www.reneshbedre.com/blog/linear-regression.html"
   ]
  },
  {
   "attachments": {
    "reg_front.svg": {
     "image/svg+xml": [
      "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"
     ]
    }
   },
   "cell_type": "markdown",
   "metadata": {},
   "source": [
    "![reg_front.svg](attachment:reg_front.svg)"
   ]
  },
  {
   "cell_type": "markdown",
   "metadata": {},
   "source": [
    "```python\n",
    "y ~ x0 + x1\n",
    "```"
   ]
  },
  {
   "cell_type": "markdown",
   "metadata": {},
   "source": [
    "linear regresson problems:\n",
    "$$\n",
    "y = \\alpha + \\beta_0 x_0 + \\beta_1 x_1 \n",
    "$$\n",
    "- y: outcome\n",
    "- $x_0$, $x_1$: predictors"
   ]
  },
  {
   "cell_type": "code",
   "execution_count": 13,
   "metadata": {},
   "outputs": [
    {
     "data": {
      "text/html": [
       "<div>\n",
       "<style scoped>\n",
       "    .dataframe tbody tr th:only-of-type {\n",
       "        vertical-align: middle;\n",
       "    }\n",
       "\n",
       "    .dataframe tbody tr th {\n",
       "        vertical-align: top;\n",
       "    }\n",
       "\n",
       "    .dataframe thead th {\n",
       "        text-align: right;\n",
       "    }\n",
       "</style>\n",
       "<table border=\"1\" class=\"dataframe\">\n",
       "  <thead>\n",
       "    <tr style=\"text-align: right;\">\n",
       "      <th></th>\n",
       "      <th>x0</th>\n",
       "      <th>x1</th>\n",
       "      <th>y</th>\n",
       "    </tr>\n",
       "  </thead>\n",
       "  <tbody>\n",
       "    <tr>\n",
       "      <th>0</th>\n",
       "      <td>1</td>\n",
       "      <td>0.01</td>\n",
       "      <td>-1.5</td>\n",
       "    </tr>\n",
       "    <tr>\n",
       "      <th>1</th>\n",
       "      <td>2</td>\n",
       "      <td>-0.01</td>\n",
       "      <td>0.0</td>\n",
       "    </tr>\n",
       "    <tr>\n",
       "      <th>2</th>\n",
       "      <td>3</td>\n",
       "      <td>0.25</td>\n",
       "      <td>3.6</td>\n",
       "    </tr>\n",
       "    <tr>\n",
       "      <th>3</th>\n",
       "      <td>4</td>\n",
       "      <td>-4.10</td>\n",
       "      <td>1.3</td>\n",
       "    </tr>\n",
       "    <tr>\n",
       "      <th>4</th>\n",
       "      <td>5</td>\n",
       "      <td>0.00</td>\n",
       "      <td>-2.0</td>\n",
       "    </tr>\n",
       "  </tbody>\n",
       "</table>\n",
       "</div>"
      ],
      "text/plain": [
       "   x0    x1    y\n",
       "0   1  0.01 -1.5\n",
       "1   2 -0.01  0.0\n",
       "2   3  0.25  3.6\n",
       "3   4 -4.10  1.3\n",
       "4   5  0.00 -2.0"
      ]
     },
     "execution_count": 13,
     "metadata": {},
     "output_type": "execute_result"
    }
   ],
   "source": [
    "data = pd.DataFrame({\n",
    "    'x0': [1, 2, 3, 4, 5],\n",
    "    'x1': [0.01, -0.01, 0.25, -4.1, 0.],\n",
    "    'y': [-1.5, 0., 3.6, 1.3, -2.]})\n",
    "data"
   ]
  },
  {
   "cell_type": "code",
   "execution_count": 14,
   "metadata": {},
   "outputs": [],
   "source": [
    "import patsy\n",
    "y, X = patsy.dmatrices('y ~ x0 + x1', data) # design matrix"
   ]
  },
  {
   "cell_type": "code",
   "execution_count": 15,
   "metadata": {},
   "outputs": [
    {
     "data": {
      "text/plain": [
       "DesignMatrix with shape (5, 1)\n",
       "     y\n",
       "  -1.5\n",
       "   0.0\n",
       "   3.6\n",
       "   1.3\n",
       "  -2.0\n",
       "  Terms:\n",
       "    'y' (column 0)"
      ]
     },
     "execution_count": 15,
     "metadata": {},
     "output_type": "execute_result"
    }
   ],
   "source": [
    "y"
   ]
  },
  {
   "cell_type": "code",
   "execution_count": 16,
   "metadata": {},
   "outputs": [
    {
     "data": {
      "text/plain": [
       "DesignMatrix with shape (5, 3)\n",
       "  Intercept  x0     x1\n",
       "          1   1   0.01\n",
       "          1   2  -0.01\n",
       "          1   3   0.25\n",
       "          1   4  -4.10\n",
       "          1   5   0.00\n",
       "  Terms:\n",
       "    'Intercept' (column 0)\n",
       "    'x0' (column 1)\n",
       "    'x1' (column 2)"
      ]
     },
     "execution_count": 16,
     "metadata": {},
     "output_type": "execute_result"
    }
   ],
   "source": [
    "# \"Intercept\" will auto gernate by patsy， \n",
    "# This is a convention for linear models like ordinary least squares (OLS) regression\n",
    "X"
   ]
  },
  {
   "cell_type": "code",
   "execution_count": 17,
   "metadata": {},
   "outputs": [
    {
     "data": {
      "text/plain": [
       "array([[-1.5],\n",
       "       [ 0. ],\n",
       "       [ 3.6],\n",
       "       [ 1.3],\n",
       "       [-2. ]])"
      ]
     },
     "execution_count": 17,
     "metadata": {},
     "output_type": "execute_result"
    }
   ],
   "source": [
    "np.asarray(y)"
   ]
  },
  {
   "cell_type": "code",
   "execution_count": 18,
   "metadata": {},
   "outputs": [
    {
     "data": {
      "text/plain": [
       "array([[ 1.  ,  1.  ,  0.01],\n",
       "       [ 1.  ,  2.  , -0.01],\n",
       "       [ 1.  ,  3.  ,  0.25],\n",
       "       [ 1.  ,  4.  , -4.1 ],\n",
       "       [ 1.  ,  5.  ,  0.  ]])"
      ]
     },
     "execution_count": 18,
     "metadata": {},
     "output_type": "execute_result"
    }
   ],
   "source": [
    "np.asarray(X)"
   ]
  },
  {
   "cell_type": "markdown",
   "metadata": {},
   "source": [
    "linear regresson problems:\n",
    "$$\n",
    "y = \\beta_0 x_0 + \\beta_1 x_1 \n",
    "$$\n",
    "- y: outcome\n",
    "- $x_0$, $x_1$: predictors"
   ]
  },
  {
   "cell_type": "code",
   "execution_count": 19,
   "metadata": {},
   "outputs": [
    {
     "data": {
      "text/plain": [
       "DesignMatrix with shape (5, 2)\n",
       "  x0     x1\n",
       "   1   0.01\n",
       "   2  -0.01\n",
       "   3   0.25\n",
       "   4  -4.10\n",
       "   5   0.00\n",
       "  Terms:\n",
       "    'x0' (column 0)\n",
       "    'x1' (column 1)"
      ]
     },
     "execution_count": 19,
     "metadata": {},
     "output_type": "execute_result"
    }
   ],
   "source": [
    "# We can suppress the \"intercept\" by adding + 0 to the model\n",
    "patsy.dmatrices('y ~ x0 + x1 + 0', data)[1]"
   ]
  },
  {
   "cell_type": "code",
   "execution_count": 20,
   "metadata": {},
   "outputs": [
    {
     "data": {
      "text/plain": [
       "DesignMatrix with shape (5, 3)\n",
       "  Intercept  x0     x1\n",
       "          1   1   0.01\n",
       "          1   2  -0.01\n",
       "          1   3   0.25\n",
       "          1   4  -4.10\n",
       "          1   5   0.00\n",
       "  Terms:\n",
       "    'Intercept' (column 0)\n",
       "    'x0' (column 1)\n",
       "    'x1' (column 2)"
      ]
     },
     "execution_count": 20,
     "metadata": {},
     "output_type": "execute_result"
    }
   ],
   "source": [
    "X"
   ]
  },
  {
   "cell_type": "code",
   "execution_count": 21,
   "metadata": {},
   "outputs": [
    {
     "data": {
      "text/plain": [
       "patsy.design_info.DesignMatrix"
      ]
     },
     "execution_count": 21,
     "metadata": {},
     "output_type": "execute_result"
    }
   ],
   "source": [
    "type(X)"
   ]
  },
  {
   "cell_type": "markdown",
   "metadata": {},
   "source": [
    "$$\n",
    "y = X \\beta\n",
    "$$\n",
    "\n",
    "Solution to the least square:\n",
    "$$\n",
    "\\hat \\beta = (X^T X)^{-1} X^T y\n",
    "$$"
   ]
  },
  {
   "cell_type": "markdown",
   "metadata": {},
   "source": [
    "linear regresson problems:\n",
    "$$\n",
    "y = \\alpha + \\beta_0 x_0 + \\beta_1 x_1 \n",
    "$$\n",
    "- y: outcome\n",
    "- $x_0$, $x_1$: predictors"
   ]
  },
  {
   "cell_type": "code",
   "execution_count": 22,
   "metadata": {},
   "outputs": [
    {
     "name": "stderr",
     "output_type": "stream",
     "text": [
      "C:\\Users\\Public\\Anaconda3\\lib\\site-packages\\ipykernel_launcher.py:2: FutureWarning: `rcond` parameter will change to the default of machine precision times ``max(M, N)`` where M and N are the input matrix dimensions.\n",
      "To use the future default and silence this warning we advise to pass `rcond=None`, to keep using the old, explicitly pass `rcond=-1`.\n",
      "  \n"
     ]
    },
    {
     "data": {
      "text/plain": [
       "array([[ 0.3129],\n",
       "       [-0.0791],\n",
       "       [-0.2655]])"
      ]
     },
     "execution_count": 22,
     "metadata": {},
     "output_type": "execute_result"
    }
   ],
   "source": [
    "# lstsq =>　least squares method　最小平方法\n",
    "coef, resid, _, _ = np.linalg.lstsq(X, y) # coef => 解 , resid => 殘差平方和\n",
    "coef"
   ]
  },
  {
   "cell_type": "code",
   "execution_count": 24,
   "metadata": {},
   "outputs": [],
   "source": [
    "# np.linalg.lstsq?"
   ]
  },
  {
   "cell_type": "code",
   "execution_count": null,
   "metadata": {},
   "outputs": [],
   "source": []
  },
  {
   "cell_type": "code",
   "execution_count": 25,
   "metadata": {},
   "outputs": [
    {
     "data": {
      "text/plain": [
       "Intercept    0.312910\n",
       "x0          -0.079106\n",
       "x1          -0.265464\n",
       "dtype: float64"
      ]
     },
     "execution_count": 25,
     "metadata": {},
     "output_type": "execute_result"
    }
   ],
   "source": [
    "coef = pd.Series(coef.squeeze(), index=X.design_info.column_names) # Remove axes of length one from array.\n",
    "coef"
   ]
  },
  {
   "cell_type": "markdown",
   "metadata": {},
   "source": [
    "### §13.2.1 Data Transformations in Patsy Formulas"
   ]
  },
  {
   "cell_type": "markdown",
   "metadata": {},
   "source": [
    "https://www.youtube.com/playlist?list=PLgJhDSE2ZLxblV7ywtiK3xrEZ-vWm11Xn"
   ]
  },
  {
   "cell_type": "markdown",
   "metadata": {},
   "source": [
    "## patsy - Describing statistical models in Python\n",
    "https://patsy.readthedocs.io/en/latest/"
   ]
  },
  {
   "cell_type": "code",
   "execution_count": 26,
   "metadata": {},
   "outputs": [
    {
     "data": {
      "text/html": [
       "<div>\n",
       "<style scoped>\n",
       "    .dataframe tbody tr th:only-of-type {\n",
       "        vertical-align: middle;\n",
       "    }\n",
       "\n",
       "    .dataframe tbody tr th {\n",
       "        vertical-align: top;\n",
       "    }\n",
       "\n",
       "    .dataframe thead th {\n",
       "        text-align: right;\n",
       "    }\n",
       "</style>\n",
       "<table border=\"1\" class=\"dataframe\">\n",
       "  <thead>\n",
       "    <tr style=\"text-align: right;\">\n",
       "      <th></th>\n",
       "      <th>x0</th>\n",
       "      <th>x1</th>\n",
       "      <th>y</th>\n",
       "    </tr>\n",
       "  </thead>\n",
       "  <tbody>\n",
       "    <tr>\n",
       "      <th>0</th>\n",
       "      <td>1</td>\n",
       "      <td>0.01</td>\n",
       "      <td>-1.5</td>\n",
       "    </tr>\n",
       "    <tr>\n",
       "      <th>1</th>\n",
       "      <td>2</td>\n",
       "      <td>-0.01</td>\n",
       "      <td>0.0</td>\n",
       "    </tr>\n",
       "    <tr>\n",
       "      <th>2</th>\n",
       "      <td>3</td>\n",
       "      <td>0.25</td>\n",
       "      <td>3.6</td>\n",
       "    </tr>\n",
       "    <tr>\n",
       "      <th>3</th>\n",
       "      <td>4</td>\n",
       "      <td>-4.10</td>\n",
       "      <td>1.3</td>\n",
       "    </tr>\n",
       "    <tr>\n",
       "      <th>4</th>\n",
       "      <td>5</td>\n",
       "      <td>0.00</td>\n",
       "      <td>-2.0</td>\n",
       "    </tr>\n",
       "  </tbody>\n",
       "</table>\n",
       "</div>"
      ],
      "text/plain": [
       "   x0    x1    y\n",
       "0   1  0.01 -1.5\n",
       "1   2 -0.01  0.0\n",
       "2   3  0.25  3.6\n",
       "3   4 -4.10  1.3\n",
       "4   5  0.00 -2.0"
      ]
     },
     "execution_count": 26,
     "metadata": {},
     "output_type": "execute_result"
    }
   ],
   "source": [
    "data"
   ]
  },
  {
   "cell_type": "code",
   "execution_count": 27,
   "metadata": {},
   "outputs": [
    {
     "data": {
      "text/plain": [
       "DesignMatrix with shape (5, 3)\n",
       "  Intercept  x0  np.log(np.abs(x1) + 1)\n",
       "          1   1                 0.00995\n",
       "          1   2                 0.00995\n",
       "          1   3                 0.22314\n",
       "          1   4                 1.62924\n",
       "          1   5                 0.00000\n",
       "  Terms:\n",
       "    'Intercept' (column 0)\n",
       "    'x0' (column 1)\n",
       "    'np.log(np.abs(x1) + 1)' (column 2)"
      ]
     },
     "execution_count": 27,
     "metadata": {},
     "output_type": "execute_result"
    }
   ],
   "source": [
    "y, X = patsy.dmatrices('y ~ x0 + np.log(np.abs(x1) + 1)', data)\n",
    "X"
   ]
  },
  {
   "cell_type": "code",
   "execution_count": 28,
   "metadata": {},
   "outputs": [
    {
     "data": {
      "text/plain": [
       "-0.7699999999999999"
      ]
     },
     "execution_count": 28,
     "metadata": {},
     "output_type": "execute_result"
    }
   ],
   "source": [
    "data['x1'].mean()"
   ]
  },
  {
   "cell_type": "code",
   "execution_count": 29,
   "metadata": {},
   "outputs": [
    {
     "data": {
      "text/plain": [
       "DesignMatrix with shape (5, 3)\n",
       "  Intercept  standardize(x0)  center(x1)\n",
       "          1         -1.41421        0.78\n",
       "          1         -0.70711        0.76\n",
       "          1          0.00000        1.02\n",
       "          1          0.70711       -3.33\n",
       "          1          1.41421        0.77\n",
       "  Terms:\n",
       "    'Intercept' (column 0)\n",
       "    'standardize(x0)' (column 1)\n",
       "    'center(x1)' (column 2)"
      ]
     },
     "execution_count": 29,
     "metadata": {},
     "output_type": "execute_result"
    }
   ],
   "source": [
    "# standardizing => (to mean 0 and variance 1) , center => (subtracting the mean)\n",
    "y, X = patsy.dmatrices('y ~ standardize(x0) + center(x1)', data)\n",
    "X"
   ]
  },
  {
   "cell_type": "code",
   "execution_count": 30,
   "metadata": {},
   "outputs": [
    {
     "data": {
      "text/plain": [
       "DesignInfo(['Intercept', 'standardize(x0)', 'center(x1)'],\n",
       "           factor_infos={EvalFactor('standardize(x0)'): FactorInfo(factor=EvalFactor('standardize(x0)'),\n",
       "                                    type='numerical',\n",
       "                                    state=<factor state>,\n",
       "                                    num_columns=1),\n",
       "                         EvalFactor('center(x1)'): FactorInfo(factor=EvalFactor('center(x1)'),\n",
       "                                    type='numerical',\n",
       "                                    state=<factor state>,\n",
       "                                    num_columns=1)},\n",
       "           term_codings=OrderedDict([(Term([]),\n",
       "                                      [SubtermInfo(factors=(),\n",
       "                                                   contrast_matrices={},\n",
       "                                                   num_columns=1)]),\n",
       "                                     (Term([EvalFactor('standardize(x0)')]),\n",
       "                                      [SubtermInfo(factors=(EvalFactor('standardize(x0)'),),\n",
       "                                                   contrast_matrices={},\n",
       "                                                   num_columns=1)]),\n",
       "                                     (Term([EvalFactor('center(x1)')]),\n",
       "                                      [SubtermInfo(factors=(EvalFactor('center(x1)'),),\n",
       "                                                   contrast_matrices={},\n",
       "                                                   num_columns=1)])]))"
      ]
     },
     "execution_count": 30,
     "metadata": {},
     "output_type": "execute_result"
    }
   ],
   "source": [
    "X.design_info"
   ]
  },
  {
   "cell_type": "code",
   "execution_count": 31,
   "metadata": {},
   "outputs": [
    {
     "data": {
      "text/plain": [
       "patsy.design_info.DesignInfo"
      ]
     },
     "execution_count": 31,
     "metadata": {},
     "output_type": "execute_result"
    }
   ],
   "source": [
    "type(X.design_info)"
   ]
  },
  {
   "cell_type": "code",
   "execution_count": 32,
   "metadata": {},
   "outputs": [],
   "source": [
    "# type([X.design_info])"
   ]
  },
  {
   "cell_type": "code",
   "execution_count": 33,
   "metadata": {},
   "outputs": [
    {
     "data": {
      "text/plain": [
       "[DesignMatrix with shape (4, 3)\n",
       "   Intercept  standardize(x0)  center(x1)\n",
       "           1          2.12132        3.87\n",
       "           1          2.82843        0.27\n",
       "           1          3.53553        0.77\n",
       "           1          4.24264        3.07\n",
       "   Terms:\n",
       "     'Intercept' (column 0)\n",
       "     'standardize(x0)' (column 1)\n",
       "     'center(x1)' (column 2)]"
      ]
     },
     "execution_count": 33,
     "metadata": {},
     "output_type": "execute_result"
    }
   ],
   "source": [
    "#patsy.build_design_matrices => apply transformations to new outof-sample data using the saved information \n",
    "                                                                     # from the original in-sample dataset\n",
    "\n",
    "new_data = pd.DataFrame({ \n",
    "    'x0': [6, 7, 8, 9],\n",
    "    'x1': [3.1, -0.5, 0, 2.3],\n",
    "    'y': [1, 2, 3, 4]})\n",
    "new_X = patsy.build_design_matrices([X.design_info], new_data)\n",
    "new_X"
   ]
  },
  {
   "cell_type": "code",
   "execution_count": 34,
   "metadata": {},
   "outputs": [],
   "source": [
    "# patsy.build_design_matrices?"
   ]
  },
  {
   "cell_type": "code",
   "execution_count": 35,
   "metadata": {},
   "outputs": [
    {
     "data": {
      "text/plain": [
       "0    3.87\n",
       "1    0.27\n",
       "2    0.77\n",
       "3    3.07\n",
       "Name: x1, dtype: float64"
      ]
     },
     "execution_count": 35,
     "metadata": {},
     "output_type": "execute_result"
    }
   ],
   "source": [
    "new_data['x1'] - data['x1'].mean()"
   ]
  },
  {
   "cell_type": "markdown",
   "metadata": {},
   "source": [
    "linear regresson problems:\n",
    "$$\n",
    "y = \\alpha + \\beta_0 (x_0 + x_1) \n",
    "$$\n",
    "- y: outcome\n",
    "- $x_0 + x_1$: predictors"
   ]
  },
  {
   "cell_type": "code",
   "execution_count": 36,
   "metadata": {},
   "outputs": [
    {
     "data": {
      "text/plain": [
       "DesignMatrix with shape (5, 2)\n",
       "  Intercept  I(x0 + x1)\n",
       "          1        1.01\n",
       "          1        1.99\n",
       "          1        3.25\n",
       "          1       -0.10\n",
       "          1        5.00\n",
       "  Terms:\n",
       "    'Intercept' (column 0)\n",
       "    'I(x0 + x1)' (column 1)"
      ]
     },
     "execution_count": 36,
     "metadata": {},
     "output_type": "execute_result"
    }
   ],
   "source": [
    "# I => addition\n",
    "y, X = patsy.dmatrices('y ~ I(x0 + x1)', data)\n",
    "X"
   ]
  },
  {
   "cell_type": "markdown",
   "metadata": {},
   "source": [
    "### §13.2.2 Categorical Data and Patsy"
   ]
  },
  {
   "cell_type": "markdown",
   "metadata": {},
   "source": [
    "## Regression with Categorical Variables: Dummy Coding Essentials in R\n",
    "http://www.sthda.com/english/articles/40-regression-analysis/163-regression-with-categorical-variables-dummy-coding-essentials-in-r/"
   ]
  },
  {
   "cell_type": "code",
   "execution_count": 37,
   "metadata": {},
   "outputs": [
    {
     "data": {
      "text/html": [
       "<div>\n",
       "<style scoped>\n",
       "    .dataframe tbody tr th:only-of-type {\n",
       "        vertical-align: middle;\n",
       "    }\n",
       "\n",
       "    .dataframe tbody tr th {\n",
       "        vertical-align: top;\n",
       "    }\n",
       "\n",
       "    .dataframe thead th {\n",
       "        text-align: right;\n",
       "    }\n",
       "</style>\n",
       "<table border=\"1\" class=\"dataframe\">\n",
       "  <thead>\n",
       "    <tr style=\"text-align: right;\">\n",
       "      <th></th>\n",
       "      <th>key1</th>\n",
       "      <th>key2</th>\n",
       "      <th>v1</th>\n",
       "      <th>v2</th>\n",
       "    </tr>\n",
       "  </thead>\n",
       "  <tbody>\n",
       "    <tr>\n",
       "      <th>0</th>\n",
       "      <td>a</td>\n",
       "      <td>0</td>\n",
       "      <td>1</td>\n",
       "      <td>-1.0</td>\n",
       "    </tr>\n",
       "    <tr>\n",
       "      <th>1</th>\n",
       "      <td>a</td>\n",
       "      <td>1</td>\n",
       "      <td>2</td>\n",
       "      <td>0.0</td>\n",
       "    </tr>\n",
       "    <tr>\n",
       "      <th>2</th>\n",
       "      <td>b</td>\n",
       "      <td>0</td>\n",
       "      <td>3</td>\n",
       "      <td>2.5</td>\n",
       "    </tr>\n",
       "    <tr>\n",
       "      <th>3</th>\n",
       "      <td>b</td>\n",
       "      <td>1</td>\n",
       "      <td>4</td>\n",
       "      <td>-0.5</td>\n",
       "    </tr>\n",
       "    <tr>\n",
       "      <th>4</th>\n",
       "      <td>a</td>\n",
       "      <td>0</td>\n",
       "      <td>5</td>\n",
       "      <td>4.0</td>\n",
       "    </tr>\n",
       "    <tr>\n",
       "      <th>5</th>\n",
       "      <td>b</td>\n",
       "      <td>1</td>\n",
       "      <td>6</td>\n",
       "      <td>-1.2</td>\n",
       "    </tr>\n",
       "    <tr>\n",
       "      <th>6</th>\n",
       "      <td>a</td>\n",
       "      <td>0</td>\n",
       "      <td>7</td>\n",
       "      <td>0.2</td>\n",
       "    </tr>\n",
       "    <tr>\n",
       "      <th>7</th>\n",
       "      <td>b</td>\n",
       "      <td>0</td>\n",
       "      <td>8</td>\n",
       "      <td>-1.7</td>\n",
       "    </tr>\n",
       "  </tbody>\n",
       "</table>\n",
       "</div>"
      ],
      "text/plain": [
       "  key1  key2  v1   v2\n",
       "0    a     0   1 -1.0\n",
       "1    a     1   2  0.0\n",
       "2    b     0   3  2.5\n",
       "3    b     1   4 -0.5\n",
       "4    a     0   5  4.0\n",
       "5    b     1   6 -1.2\n",
       "6    a     0   7  0.2\n",
       "7    b     0   8 -1.7"
      ]
     },
     "execution_count": 37,
     "metadata": {},
     "output_type": "execute_result"
    }
   ],
   "source": [
    "data = pd.DataFrame({\n",
    "    'key1': ['a', 'a', 'b', 'b', 'a', 'b', 'a', 'b'],\n",
    "    'key2': [0, 1, 0, 1, 0, 1, 0, 0],\n",
    "    'v1': [1, 2, 3, 4, 5, 6, 7, 8],\n",
    "    'v2': [-1, 0, 2.5, -0.5, 4.0, -1.2, 0.2, -1.7]\n",
    "})\n",
    "data"
   ]
  },
  {
   "cell_type": "markdown",
   "metadata": {},
   "source": [
    "linear regresson problems:\n",
    "$$\n",
    "v_2 = \\alpha + \\beta_0 Indicator(key1 == b) \n",
    "$$\n",
    "- y: outcome\n",
    "- $key1$: predictors, default = 'b'"
   ]
  },
  {
   "cell_type": "code",
   "execution_count": 39,
   "metadata": {},
   "outputs": [
    {
     "data": {
      "text/plain": [
       "DesignMatrix with shape (8, 2)\n",
       "  Intercept  key1[T.b]\n",
       "          1          0\n",
       "          1          0\n",
       "          1          1\n",
       "          1          1\n",
       "          1          0\n",
       "          1          1\n",
       "          1          0\n",
       "          1          1\n",
       "  Terms:\n",
       "    'Intercept' (column 0)\n",
       "    'key1' (column 1)"
      ]
     },
     "execution_count": 39,
     "metadata": {},
     "output_type": "execute_result"
    }
   ],
   "source": [
    "# by default non-numeric terms will be converted to dummy variables \n",
    "y, X = patsy.dmatrices('v2 ~ key1', data)\n",
    "X"
   ]
  },
  {
   "cell_type": "code",
   "execution_count": 40,
   "metadata": {},
   "outputs": [
    {
     "data": {
      "text/plain": [
       "DesignMatrix with shape (8, 2)\n",
       "  key1[a]  key1[b]\n",
       "        1        0\n",
       "        1        0\n",
       "        0        1\n",
       "        0        1\n",
       "        1        0\n",
       "        0        1\n",
       "        1        0\n",
       "        0        1\n",
       "  Terms:\n",
       "    'key1' (columns 0:2)"
      ]
     },
     "execution_count": 40,
     "metadata": {},
     "output_type": "execute_result"
    }
   ],
   "source": [
    "y, X = patsy.dmatrices('v2 ~ key1 + 0', data)\n",
    "X"
   ]
  },
  {
   "cell_type": "code",
   "execution_count": 41,
   "metadata": {},
   "outputs": [
    {
     "data": {
      "text/plain": [
       "DesignMatrix with shape (8, 1)\n",
       "  key2\n",
       "     0\n",
       "     1\n",
       "     0\n",
       "     1\n",
       "     0\n",
       "     1\n",
       "     0\n",
       "     0\n",
       "  Terms:\n",
       "    'key2' (column 0)"
      ]
     },
     "execution_count": 41,
     "metadata": {},
     "output_type": "execute_result"
    }
   ],
   "source": [
    "y, X = patsy.dmatrices('v2 ~ key2 + 0', data)\n",
    "X"
   ]
  },
  {
   "cell_type": "code",
   "execution_count": 42,
   "metadata": {},
   "outputs": [
    {
     "data": {
      "text/plain": [
       "DesignMatrix with shape (8, 2)\n",
       "  C(key2)[0]  C(key2)[1]\n",
       "           1           0\n",
       "           0           1\n",
       "           1           0\n",
       "           0           1\n",
       "           1           0\n",
       "           0           1\n",
       "           1           0\n",
       "           1           0\n",
       "  Terms:\n",
       "    'C(key2)' (columns 0:2)"
      ]
     },
     "execution_count": 42,
     "metadata": {},
     "output_type": "execute_result"
    }
   ],
   "source": [
    "# C => change to categorical\n",
    "y, X = patsy.dmatrices('v2 ~ C(key2) + 0', data)\n",
    "X"
   ]
  },
  {
   "cell_type": "code",
   "execution_count": 43,
   "metadata": {},
   "outputs": [
    {
     "data": {
      "text/html": [
       "<div>\n",
       "<style scoped>\n",
       "    .dataframe tbody tr th:only-of-type {\n",
       "        vertical-align: middle;\n",
       "    }\n",
       "\n",
       "    .dataframe tbody tr th {\n",
       "        vertical-align: top;\n",
       "    }\n",
       "\n",
       "    .dataframe thead th {\n",
       "        text-align: right;\n",
       "    }\n",
       "</style>\n",
       "<table border=\"1\" class=\"dataframe\">\n",
       "  <thead>\n",
       "    <tr style=\"text-align: right;\">\n",
       "      <th></th>\n",
       "      <th>key1</th>\n",
       "      <th>key2</th>\n",
       "      <th>v1</th>\n",
       "      <th>v2</th>\n",
       "    </tr>\n",
       "  </thead>\n",
       "  <tbody>\n",
       "    <tr>\n",
       "      <th>0</th>\n",
       "      <td>a</td>\n",
       "      <td>zero</td>\n",
       "      <td>1</td>\n",
       "      <td>-1.0</td>\n",
       "    </tr>\n",
       "    <tr>\n",
       "      <th>1</th>\n",
       "      <td>a</td>\n",
       "      <td>one</td>\n",
       "      <td>2</td>\n",
       "      <td>0.0</td>\n",
       "    </tr>\n",
       "    <tr>\n",
       "      <th>2</th>\n",
       "      <td>b</td>\n",
       "      <td>zero</td>\n",
       "      <td>3</td>\n",
       "      <td>2.5</td>\n",
       "    </tr>\n",
       "    <tr>\n",
       "      <th>3</th>\n",
       "      <td>b</td>\n",
       "      <td>one</td>\n",
       "      <td>4</td>\n",
       "      <td>-0.5</td>\n",
       "    </tr>\n",
       "    <tr>\n",
       "      <th>4</th>\n",
       "      <td>a</td>\n",
       "      <td>zero</td>\n",
       "      <td>5</td>\n",
       "      <td>4.0</td>\n",
       "    </tr>\n",
       "    <tr>\n",
       "      <th>5</th>\n",
       "      <td>b</td>\n",
       "      <td>one</td>\n",
       "      <td>6</td>\n",
       "      <td>-1.2</td>\n",
       "    </tr>\n",
       "    <tr>\n",
       "      <th>6</th>\n",
       "      <td>a</td>\n",
       "      <td>zero</td>\n",
       "      <td>7</td>\n",
       "      <td>0.2</td>\n",
       "    </tr>\n",
       "    <tr>\n",
       "      <th>7</th>\n",
       "      <td>b</td>\n",
       "      <td>zero</td>\n",
       "      <td>8</td>\n",
       "      <td>-1.7</td>\n",
       "    </tr>\n",
       "  </tbody>\n",
       "</table>\n",
       "</div>"
      ],
      "text/plain": [
       "  key1  key2  v1   v2\n",
       "0    a  zero   1 -1.0\n",
       "1    a   one   2  0.0\n",
       "2    b  zero   3  2.5\n",
       "3    b   one   4 -0.5\n",
       "4    a  zero   5  4.0\n",
       "5    b   one   6 -1.2\n",
       "6    a  zero   7  0.2\n",
       "7    b  zero   8 -1.7"
      ]
     },
     "execution_count": 43,
     "metadata": {},
     "output_type": "execute_result"
    }
   ],
   "source": [
    "data['key2'] = data['key2'].map({0: 'zero', 1: 'one'})\n",
    "data"
   ]
  },
  {
   "cell_type": "code",
   "execution_count": 44,
   "metadata": {},
   "outputs": [
    {
     "data": {
      "text/plain": [
       "DesignMatrix with shape (8, 2)\n",
       "  Intercept  key2[T.zero]\n",
       "          1             1\n",
       "          1             0\n",
       "          1             1\n",
       "          1             0\n",
       "          1             1\n",
       "          1             0\n",
       "          1             1\n",
       "          1             1\n",
       "  Terms:\n",
       "    'Intercept' (column 0)\n",
       "    'key2' (column 1)"
      ]
     },
     "execution_count": 44,
     "metadata": {},
     "output_type": "execute_result"
    }
   ],
   "source": [
    "y, X = patsy.dmatrices('v2 ~ key2', data)\n",
    "X"
   ]
  },
  {
   "cell_type": "code",
   "execution_count": 45,
   "metadata": {},
   "outputs": [
    {
     "data": {
      "text/plain": [
       "DesignMatrix with shape (8, 3)\n",
       "  Intercept  key1[T.b]  key2[T.zero]\n",
       "          1          0             1\n",
       "          1          0             0\n",
       "          1          1             1\n",
       "          1          1             0\n",
       "          1          0             1\n",
       "          1          1             0\n",
       "          1          0             1\n",
       "          1          1             1\n",
       "  Terms:\n",
       "    'Intercept' (column 0)\n",
       "    'key1' (column 1)\n",
       "    'key2' (column 2)"
      ]
     },
     "execution_count": 45,
     "metadata": {},
     "output_type": "execute_result"
    }
   ],
   "source": [
    "y, X = patsy.dmatrices('v2 ~ key1 + key2', data)\n",
    "X"
   ]
  },
  {
   "cell_type": "markdown",
   "metadata": {},
   "source": [
    "linear regresson problems:\n",
    "$$\n",
    "v_2 = \\alpha + \\beta_0 I(key1 == b) + \\beta_1 I(key2 == zero) + \\beta_2 I(key1 == b \\wedge key2 == zero) \n",
    "$$\n",
    "- y: outcome\n",
    "- $key1$，$key2$: predictors"
   ]
  },
  {
   "cell_type": "code",
   "execution_count": 46,
   "metadata": {},
   "outputs": [
    {
     "data": {
      "text/plain": [
       "DesignMatrix with shape (8, 4)\n",
       "  Intercept  key1[T.b]  key2[T.zero]  key1[T.b]:key2[T.zero]\n",
       "          1          0             1                       0\n",
       "          1          0             0                       0\n",
       "          1          1             1                       1\n",
       "          1          1             0                       0\n",
       "          1          0             1                       0\n",
       "          1          1             0                       0\n",
       "          1          0             1                       0\n",
       "          1          1             1                       1\n",
       "  Terms:\n",
       "    'Intercept' (column 0)\n",
       "    'key1' (column 1)\n",
       "    'key2' (column 2)\n",
       "    'key1:key2' (column 3)"
      ]
     },
     "execution_count": 46,
     "metadata": {},
     "output_type": "execute_result"
    }
   ],
   "source": [
    "# \":\" = >Interactions 交集\n",
    "y, X = patsy.dmatrices('v2 ~ key1 + key2 + key1:key2', data)\n",
    "X"
   ]
  },
  {
   "cell_type": "markdown",
   "metadata": {},
   "source": [
    "## §13.3 Introduction to statsmodels\n",
    "-\tEstimating Linear Models\n",
    "-\tEstimating Time Series Processes"
   ]
  },
  {
   "cell_type": "markdown",
   "metadata": {},
   "source": [
    "### §13.3.1 Estimating Linear Models"
   ]
  },
  {
   "cell_type": "markdown",
   "metadata": {},
   "source": [
    "### Introduction to statsmodels\n",
    "https://www.youtube.com/watch?v=2BdfjqyWj3c\n",
    "https://www.youtube.com/watch?v=2DZGeKjEZgk"
   ]
  },
  {
   "cell_type": "code",
   "execution_count": 47,
   "metadata": {},
   "outputs": [],
   "source": [
    "import statsmodels.api as sm\n",
    "import statsmodels.formula.api as smf"
   ]
  },
  {
   "cell_type": "markdown",
   "metadata": {},
   "source": [
    "$$\n",
    "y = \\alpha + \\beta_0 x_0 + \\beta_1 x_1 + \\beta_2 x_2 + \\epsilon \n",
    "$$\n",
    "- y: outcome\n",
    "- $x_0, ~x_1, ~x_2$: predictors"
   ]
  },
  {
   "cell_type": "code",
   "execution_count": 48,
   "metadata": {},
   "outputs": [],
   "source": [
    "def dnorm(mean, variance, size=1):\n",
    "    if isinstance(size, int):\n",
    "        size = size,\n",
    "    return mean + np.sqrt(variance) * np.random.randn(*size)\n",
    "\n",
    "# For reproducibility\n",
    "np.random.seed(12345)\n",
    "\n",
    "N = 100\n",
    "X = np.c_[dnorm(0, 0.4, size=N),\n",
    "          dnorm(0, 0.6, size=N),\n",
    "          dnorm(0, 0.2, size=N)]\n",
    "eps = dnorm(0, 0.1, size=N)\n",
    "beta = [0.1, 0.3, 0.5]\n",
    "\n",
    "y = np.dot(X, beta) + eps"
   ]
  },
  {
   "cell_type": "code",
   "execution_count": null,
   "metadata": {},
   "outputs": [],
   "source": []
  },
  {
   "cell_type": "code",
   "execution_count": 49,
   "metadata": {},
   "outputs": [
    {
     "data": {
      "text/plain": [
       "array([[-0.1295, -1.2128,  0.5042],\n",
       "       [ 0.3029, -0.4357, -0.2542],\n",
       "       [-0.3285, -0.0253,  0.1384],\n",
       "       [-0.3515, -0.7196, -0.2582],\n",
       "       [ 1.2433, -0.3738, -0.5226]])"
      ]
     },
     "execution_count": 49,
     "metadata": {},
     "output_type": "execute_result"
    }
   ],
   "source": [
    "X[:5]"
   ]
  },
  {
   "cell_type": "code",
   "execution_count": 50,
   "metadata": {},
   "outputs": [
    {
     "data": {
      "text/plain": [
       "array([ 0.4279, -0.6735, -0.0909, -0.4895, -0.1289])"
      ]
     },
     "execution_count": 50,
     "metadata": {},
     "output_type": "execute_result"
    }
   ],
   "source": [
    "y[:5]"
   ]
  },
  {
   "cell_type": "code",
   "execution_count": 54,
   "metadata": {},
   "outputs": [
    {
     "data": {
      "text/plain": [
       "array([[ 1.    , -0.1295, -1.2128,  0.5042],\n",
       "       [ 1.    ,  0.3029, -0.4357, -0.2542],\n",
       "       [ 1.    , -0.3285, -0.0253,  0.1384],\n",
       "       [ 1.    , -0.3515, -0.7196, -0.2582],\n",
       "       [ 1.    ,  1.2433, -0.3738, -0.5226]])"
      ]
     },
     "execution_count": 54,
     "metadata": {},
     "output_type": "execute_result"
    }
   ],
   "source": [
    "X_model = sm.add_constant(X)\n",
    "X_model[:5]"
   ]
  },
  {
   "cell_type": "code",
   "execution_count": 51,
   "metadata": {},
   "outputs": [],
   "source": [
    "# sm.OLS => ordinary least squares linear regression\n",
    "model = sm.OLS(y, X)"
   ]
  },
  {
   "cell_type": "code",
   "execution_count": 52,
   "metadata": {},
   "outputs": [
    {
     "data": {
      "text/plain": [
       "array([0.1783, 0.223 , 0.501 ])"
      ]
     },
     "execution_count": 52,
     "metadata": {},
     "output_type": "execute_result"
    }
   ],
   "source": [
    "results = model.fit()\n",
    "results.params"
   ]
  },
  {
   "cell_type": "code",
   "execution_count": 53,
   "metadata": {},
   "outputs": [
    {
     "name": "stdout",
     "output_type": "stream",
     "text": [
      "                                 OLS Regression Results                                \n",
      "=======================================================================================\n",
      "Dep. Variable:                      y   R-squared (uncentered):                   0.430\n",
      "Model:                            OLS   Adj. R-squared (uncentered):              0.413\n",
      "Method:                 Least Squares   F-statistic:                              24.42\n",
      "Date:                Mon, 27 Dec 2021   Prob (F-statistic):                    7.44e-12\n",
      "Time:                        11:12:01   Log-Likelihood:                         -34.305\n",
      "No. Observations:                 100   AIC:                                      74.61\n",
      "Df Residuals:                      97   BIC:                                      82.42\n",
      "Df Model:                           3                                                  \n",
      "Covariance Type:            nonrobust                                                  \n",
      "==============================================================================\n",
      "                 coef    std err          t      P>|t|      [0.025      0.975]\n",
      "------------------------------------------------------------------------------\n",
      "x1             0.1783      0.053      3.364      0.001       0.073       0.283\n",
      "x2             0.2230      0.046      4.818      0.000       0.131       0.315\n",
      "x3             0.5010      0.080      6.237      0.000       0.342       0.660\n",
      "==============================================================================\n",
      "Omnibus:                        4.662   Durbin-Watson:                   2.201\n",
      "Prob(Omnibus):                  0.097   Jarque-Bera (JB):                4.098\n",
      "Skew:                           0.481   Prob(JB):                        0.129\n",
      "Kurtosis:                       3.243   Cond. No.                         1.74\n",
      "==============================================================================\n",
      "\n",
      "Notes:\n",
      "[1] R² is computed without centering (uncentered) since the model does not contain a constant.\n",
      "[2] Standard Errors assume that the covariance matrix of the errors is correctly specified.\n"
     ]
    }
   ],
   "source": [
    "print(results.summary())"
   ]
  },
  {
   "cell_type": "code",
   "execution_count": 55,
   "metadata": {},
   "outputs": [
    {
     "data": {
      "text/plain": [
       "array([[ 1.    , -0.1295, -1.2128,  0.5042],\n",
       "       [ 1.    ,  0.3029, -0.4357, -0.2542],\n",
       "       [ 1.    , -0.3285, -0.0253,  0.1384],\n",
       "       [ 1.    , -0.3515, -0.7196, -0.2582],\n",
       "       [ 1.    ,  1.2433, -0.3738, -0.5226]])"
      ]
     },
     "execution_count": 55,
     "metadata": {},
     "output_type": "execute_result"
    }
   ],
   "source": [
    "X_model = sm.add_constant(X)\n",
    "X_model[:5]"
   ]
  },
  {
   "cell_type": "code",
   "execution_count": 56,
   "metadata": {},
   "outputs": [],
   "source": [
    "# sm.OLS => ordinary least squares linear regression\n",
    "model_2 = sm.OLS(y, X_model)"
   ]
  },
  {
   "cell_type": "code",
   "execution_count": 57,
   "metadata": {},
   "outputs": [
    {
     "data": {
      "text/plain": [
       "array([0.0336, 0.1761, 0.2248, 0.5148])"
      ]
     },
     "execution_count": 57,
     "metadata": {},
     "output_type": "execute_result"
    }
   ],
   "source": [
    "results_2 = model_2.fit()\n",
    "results_2.params"
   ]
  },
  {
   "cell_type": "code",
   "execution_count": 58,
   "metadata": {},
   "outputs": [
    {
     "name": "stdout",
     "output_type": "stream",
     "text": [
      "                            OLS Regression Results                            \n",
      "==============================================================================\n",
      "Dep. Variable:                      y   R-squared:                       0.435\n",
      "Model:                            OLS   Adj. R-squared:                  0.418\n",
      "Method:                 Least Squares   F-statistic:                     24.68\n",
      "Date:                Mon, 27 Dec 2021   Prob (F-statistic):           6.37e-12\n",
      "Time:                        11:14:28   Log-Likelihood:                -33.835\n",
      "No. Observations:                 100   AIC:                             75.67\n",
      "Df Residuals:                      96   BIC:                             86.09\n",
      "Df Model:                           3                                         \n",
      "Covariance Type:            nonrobust                                         \n",
      "==============================================================================\n",
      "                 coef    std err          t      P>|t|      [0.025      0.975]\n",
      "------------------------------------------------------------------------------\n",
      "const          0.0336      0.035      0.952      0.343      -0.036       0.104\n",
      "x1             0.1761      0.053      3.320      0.001       0.071       0.281\n",
      "x2             0.2248      0.046      4.851      0.000       0.133       0.317\n",
      "x3             0.5148      0.082      6.304      0.000       0.353       0.677\n",
      "==============================================================================\n",
      "Omnibus:                        4.504   Durbin-Watson:                   2.223\n",
      "Prob(Omnibus):                  0.105   Jarque-Bera (JB):                3.957\n",
      "Skew:                           0.475   Prob(JB):                        0.138\n",
      "Kurtosis:                       3.222   Cond. No.                         2.38\n",
      "==============================================================================\n",
      "\n",
      "Notes:\n",
      "[1] Standard Errors assume that the covariance matrix of the errors is correctly specified.\n"
     ]
    }
   ],
   "source": [
    "print(results_2.summary())"
   ]
  },
  {
   "cell_type": "code",
   "execution_count": null,
   "metadata": {},
   "outputs": [],
   "source": [
    "# statsmodels with DataFrame"
   ]
  },
  {
   "cell_type": "code",
   "execution_count": 59,
   "metadata": {},
   "outputs": [
    {
     "data": {
      "text/html": [
       "<div>\n",
       "<style scoped>\n",
       "    .dataframe tbody tr th:only-of-type {\n",
       "        vertical-align: middle;\n",
       "    }\n",
       "\n",
       "    .dataframe tbody tr th {\n",
       "        vertical-align: top;\n",
       "    }\n",
       "\n",
       "    .dataframe thead th {\n",
       "        text-align: right;\n",
       "    }\n",
       "</style>\n",
       "<table border=\"1\" class=\"dataframe\">\n",
       "  <thead>\n",
       "    <tr style=\"text-align: right;\">\n",
       "      <th></th>\n",
       "      <th>col0</th>\n",
       "      <th>col1</th>\n",
       "      <th>col2</th>\n",
       "      <th>y</th>\n",
       "    </tr>\n",
       "  </thead>\n",
       "  <tbody>\n",
       "    <tr>\n",
       "      <th>0</th>\n",
       "      <td>-0.129468</td>\n",
       "      <td>-1.212753</td>\n",
       "      <td>0.504225</td>\n",
       "      <td>0.427863</td>\n",
       "    </tr>\n",
       "    <tr>\n",
       "      <th>1</th>\n",
       "      <td>0.302910</td>\n",
       "      <td>-0.435742</td>\n",
       "      <td>-0.254180</td>\n",
       "      <td>-0.673480</td>\n",
       "    </tr>\n",
       "    <tr>\n",
       "      <th>2</th>\n",
       "      <td>-0.328522</td>\n",
       "      <td>-0.025302</td>\n",
       "      <td>0.138351</td>\n",
       "      <td>-0.090878</td>\n",
       "    </tr>\n",
       "    <tr>\n",
       "      <th>3</th>\n",
       "      <td>-0.351475</td>\n",
       "      <td>-0.719605</td>\n",
       "      <td>-0.258215</td>\n",
       "      <td>-0.489494</td>\n",
       "    </tr>\n",
       "    <tr>\n",
       "      <th>4</th>\n",
       "      <td>1.243269</td>\n",
       "      <td>-0.373799</td>\n",
       "      <td>-0.522629</td>\n",
       "      <td>-0.128941</td>\n",
       "    </tr>\n",
       "  </tbody>\n",
       "</table>\n",
       "</div>"
      ],
      "text/plain": [
       "       col0      col1      col2         y\n",
       "0 -0.129468 -1.212753  0.504225  0.427863\n",
       "1  0.302910 -0.435742 -0.254180 -0.673480\n",
       "2 -0.328522 -0.025302  0.138351 -0.090878\n",
       "3 -0.351475 -0.719605 -0.258215 -0.489494\n",
       "4  1.243269 -0.373799 -0.522629 -0.128941"
      ]
     },
     "execution_count": 59,
     "metadata": {},
     "output_type": "execute_result"
    }
   ],
   "source": [
    "data = pd.DataFrame(X, columns=['col0', 'col1', 'col2'])\n",
    "data['y'] = y\n",
    "data[:5]"
   ]
  },
  {
   "cell_type": "code",
   "execution_count": 60,
   "metadata": {},
   "outputs": [
    {
     "data": {
      "text/plain": [
       "Intercept    0.033559\n",
       "col0         0.176149\n",
       "col1         0.224826\n",
       "col2         0.514808\n",
       "dtype: float64"
      ]
     },
     "execution_count": 60,
     "metadata": {},
     "output_type": "execute_result"
    }
   ],
   "source": [
    "# ols => ordinary least squares linear regression\n",
    "results = smf.ols('y ~ col0 + col1 + col2', data=data).fit()\n",
    "results.params"
   ]
  },
  {
   "cell_type": "code",
   "execution_count": 61,
   "metadata": {},
   "outputs": [
    {
     "data": {
      "text/plain": [
       "Intercept    0.952188\n",
       "col0         3.319754\n",
       "col1         4.850730\n",
       "col2         6.303971\n",
       "dtype: float64"
      ]
     },
     "execution_count": 61,
     "metadata": {},
     "output_type": "execute_result"
    }
   ],
   "source": [
    "# wiki: t統計量(t values)是參數的估計值與其假設值的偏差與其標準誤差的比率\n",
    "results.tvalues"
   ]
  },
  {
   "cell_type": "code",
   "execution_count": 62,
   "metadata": {},
   "outputs": [
    {
     "data": {
      "text/html": [
       "<table class=\"simpletable\">\n",
       "<caption>OLS Regression Results</caption>\n",
       "<tr>\n",
       "  <th>Dep. Variable:</th>            <td>y</td>        <th>  R-squared:         </th> <td>   0.435</td>\n",
       "</tr>\n",
       "<tr>\n",
       "  <th>Model:</th>                   <td>OLS</td>       <th>  Adj. R-squared:    </th> <td>   0.418</td>\n",
       "</tr>\n",
       "<tr>\n",
       "  <th>Method:</th>             <td>Least Squares</td>  <th>  F-statistic:       </th> <td>   24.68</td>\n",
       "</tr>\n",
       "<tr>\n",
       "  <th>Date:</th>             <td>Mon, 27 Dec 2021</td> <th>  Prob (F-statistic):</th> <td>6.37e-12</td>\n",
       "</tr>\n",
       "<tr>\n",
       "  <th>Time:</th>                 <td>11:17:48</td>     <th>  Log-Likelihood:    </th> <td> -33.835</td>\n",
       "</tr>\n",
       "<tr>\n",
       "  <th>No. Observations:</th>      <td>   100</td>      <th>  AIC:               </th> <td>   75.67</td>\n",
       "</tr>\n",
       "<tr>\n",
       "  <th>Df Residuals:</th>          <td>    96</td>      <th>  BIC:               </th> <td>   86.09</td>\n",
       "</tr>\n",
       "<tr>\n",
       "  <th>Df Model:</th>              <td>     3</td>      <th>                     </th>     <td> </td>   \n",
       "</tr>\n",
       "<tr>\n",
       "  <th>Covariance Type:</th>      <td>nonrobust</td>    <th>                     </th>     <td> </td>   \n",
       "</tr>\n",
       "</table>\n",
       "<table class=\"simpletable\">\n",
       "<tr>\n",
       "      <td></td>         <th>coef</th>     <th>std err</th>      <th>t</th>      <th>P>|t|</th>  <th>[0.025</th>    <th>0.975]</th>  \n",
       "</tr>\n",
       "<tr>\n",
       "  <th>Intercept</th> <td>    0.0336</td> <td>    0.035</td> <td>    0.952</td> <td> 0.343</td> <td>   -0.036</td> <td>    0.104</td>\n",
       "</tr>\n",
       "<tr>\n",
       "  <th>col0</th>      <td>    0.1761</td> <td>    0.053</td> <td>    3.320</td> <td> 0.001</td> <td>    0.071</td> <td>    0.281</td>\n",
       "</tr>\n",
       "<tr>\n",
       "  <th>col1</th>      <td>    0.2248</td> <td>    0.046</td> <td>    4.851</td> <td> 0.000</td> <td>    0.133</td> <td>    0.317</td>\n",
       "</tr>\n",
       "<tr>\n",
       "  <th>col2</th>      <td>    0.5148</td> <td>    0.082</td> <td>    6.304</td> <td> 0.000</td> <td>    0.353</td> <td>    0.677</td>\n",
       "</tr>\n",
       "</table>\n",
       "<table class=\"simpletable\">\n",
       "<tr>\n",
       "  <th>Omnibus:</th>       <td> 4.504</td> <th>  Durbin-Watson:     </th> <td>   2.223</td>\n",
       "</tr>\n",
       "<tr>\n",
       "  <th>Prob(Omnibus):</th> <td> 0.105</td> <th>  Jarque-Bera (JB):  </th> <td>   3.957</td>\n",
       "</tr>\n",
       "<tr>\n",
       "  <th>Skew:</th>          <td> 0.475</td> <th>  Prob(JB):          </th> <td>   0.138</td>\n",
       "</tr>\n",
       "<tr>\n",
       "  <th>Kurtosis:</th>      <td> 3.222</td> <th>  Cond. No.          </th> <td>    2.38</td>\n",
       "</tr>\n",
       "</table><br/><br/>Notes:<br/>[1] Standard Errors assume that the covariance matrix of the errors is correctly specified."
      ],
      "text/plain": [
       "<class 'statsmodels.iolib.summary.Summary'>\n",
       "\"\"\"\n",
       "                            OLS Regression Results                            \n",
       "==============================================================================\n",
       "Dep. Variable:                      y   R-squared:                       0.435\n",
       "Model:                            OLS   Adj. R-squared:                  0.418\n",
       "Method:                 Least Squares   F-statistic:                     24.68\n",
       "Date:                Mon, 27 Dec 2021   Prob (F-statistic):           6.37e-12\n",
       "Time:                        11:17:48   Log-Likelihood:                -33.835\n",
       "No. Observations:                 100   AIC:                             75.67\n",
       "Df Residuals:                      96   BIC:                             86.09\n",
       "Df Model:                           3                                         \n",
       "Covariance Type:            nonrobust                                         \n",
       "==============================================================================\n",
       "                 coef    std err          t      P>|t|      [0.025      0.975]\n",
       "------------------------------------------------------------------------------\n",
       "Intercept      0.0336      0.035      0.952      0.343      -0.036       0.104\n",
       "col0           0.1761      0.053      3.320      0.001       0.071       0.281\n",
       "col1           0.2248      0.046      4.851      0.000       0.133       0.317\n",
       "col2           0.5148      0.082      6.304      0.000       0.353       0.677\n",
       "==============================================================================\n",
       "Omnibus:                        4.504   Durbin-Watson:                   2.223\n",
       "Prob(Omnibus):                  0.105   Jarque-Bera (JB):                3.957\n",
       "Skew:                           0.475   Prob(JB):                        0.138\n",
       "Kurtosis:                       3.222   Cond. No.                         2.38\n",
       "==============================================================================\n",
       "\n",
       "Notes:\n",
       "[1] Standard Errors assume that the covariance matrix of the errors is correctly specified.\n",
       "\"\"\""
      ]
     },
     "execution_count": 62,
     "metadata": {},
     "output_type": "execute_result"
    }
   ],
   "source": [
    "results.summary()"
   ]
  },
  {
   "cell_type": "code",
   "execution_count": 63,
   "metadata": {
    "scrolled": true
   },
   "outputs": [
    {
     "data": {
      "text/plain": [
       "0   -0.002327\n",
       "1   -0.141904\n",
       "2    0.041226\n",
       "3   -0.323070\n",
       "4   -0.100535\n",
       "dtype: float64"
      ]
     },
     "execution_count": 63,
     "metadata": {},
     "output_type": "execute_result"
    }
   ],
   "source": [
    "results.predict(data[:5])"
   ]
  },
  {
   "cell_type": "code",
   "execution_count": 64,
   "metadata": {},
   "outputs": [
    {
     "data": {
      "text/plain": [
       "array([ 0.4279, -0.6735, -0.0909, -0.4895, -0.1289])"
      ]
     },
     "execution_count": 64,
     "metadata": {},
     "output_type": "execute_result"
    }
   ],
   "source": [
    "y[:5]"
   ]
  },
  {
   "cell_type": "markdown",
   "metadata": {},
   "source": [
    "### §13.3.2 Estimating Time Series Processes"
   ]
  },
  {
   "cell_type": "markdown",
   "metadata": {},
   "source": [
    "![Decomposition of Time Series Compones](0_JWWglnH4RBR-SbxC.png)"
   ]
  },
  {
   "cell_type": "markdown",
   "metadata": {},
   "source": [
    "## ARIMA Model Python Example — Time Series Forecasting\n",
    "https://towardsdatascience.com/machine-learning-part-19-time-series-and-autoregressive-integrated-moving-average-model-arima-c1005347b0d7"
   ]
  },
  {
   "cell_type": "markdown",
   "metadata": {},
   "source": [
    "## Python Tutorial: Intro to AR, MA and ARMA models\n",
    "https://www.youtube.com/watch?v=kaXKnjCvEUQ"
   ]
  },
  {
   "cell_type": "markdown",
   "metadata": {},
   "source": [
    "## What are Autoregressive Models\n",
    "https://www.youtube.com/watch?v=Mc6sBAUdDP4"
   ]
  },
  {
   "cell_type": "markdown",
   "metadata": {},
   "source": [
    "$$\n",
    "y_t = \\beta_0 y_{t-1} + \\beta_1 y_{t-2} + \\epsilon\n",
    "$$"
   ]
  },
  {
   "cell_type": "code",
   "execution_count": 66,
   "metadata": {},
   "outputs": [],
   "source": [
    "init_x = 4\n",
    "\n",
    "import random\n",
    "values = [init_x, init_x]\n",
    "N = 1000\n",
    "\n",
    "b0 = 0.8\n",
    "b1 = -0.4\n",
    "noise = dnorm(0, 0.1, N)\n",
    "for i in range(N):\n",
    "    new_x = values[-1] * b0 + values[-2] * b1 + noise[i]\n",
    "    values.append(new_x)"
   ]
  },
  {
   "cell_type": "code",
   "execution_count": null,
   "metadata": {},
   "outputs": [],
   "source": []
  },
  {
   "cell_type": "code",
   "execution_count": 67,
   "metadata": {},
   "outputs": [
    {
     "data": {
      "text/plain": [
       "[4,\n",
       " 4,\n",
       " 2.247499398428837,\n",
       " 0.33925567686576186,\n",
       " -0.6982899195727197,\n",
       " -0.6649772769986597,\n",
       " -0.02622288463652772,\n",
       " 0.4528368297311267,\n",
       " 0.35165101753789774,\n",
       " 0.3653870604658267,\n",
       " 0.11452782892434163,\n",
       " -0.2182735679300477,\n",
       " -0.257332427686747,\n",
       " 0.637115500240848,\n",
       " 0.3177576771007221,\n",
       " -0.07316073157575237,\n",
       " -0.546235710271989,\n",
       " -0.26860947762231896,\n",
       " -0.2568883084628301,\n",
       " -0.2627993852404232,\n",
       " 0.003284686308583598,\n",
       " 0.17238298420925535,\n",
       " 0.17879163181188185,\n",
       " 0.1777726535067772,\n",
       " 0.09351829739614173,\n",
       " 0.04534569617395381,\n",
       " -0.41142339938961875,\n",
       " -0.031761739515050236,\n",
       " 0.4145801052077581,\n",
       " 0.03090708728007946,\n",
       " -0.09313503321273792,\n",
       " 0.3135213521490004,\n",
       " 0.22404489314408313,\n",
       " 0.06986568055082881,\n",
       " 0.16861905558510937,\n",
       " 0.2959248623367012,\n",
       " -0.08281906482426549,\n",
       " -0.035087636172165454,\n",
       " 0.1702410197442458,\n",
       " -0.02254263230459652,\n",
       " -0.31809522844479,\n",
       " 0.16650220324197954,\n",
       " 0.26745965718563014,\n",
       " 0.26256458984591285,\n",
       " -0.1887593783412993,\n",
       " -0.1571628963914821,\n",
       " -0.4070886438198967,\n",
       " -0.368263915580914,\n",
       " -0.2944908886653993,\n",
       " -0.2653057307644752,\n",
       " -0.34218350782730456,\n",
       " -0.7361024042018298,\n",
       " -0.5066114547150328,\n",
       " 0.10425472252087406,\n",
       " 0.7944092706654391,\n",
       " 0.6571914164450853,\n",
       " -0.055765956247878,\n",
       " -0.403302482044091,\n",
       " 0.22563361210342187,\n",
       " 0.026799961578724885,\n",
       " 0.41240923117561995,\n",
       " 0.3964223323747219,\n",
       " 0.2860431045608801,\n",
       " -0.13656010307263328,\n",
       " 0.4369833080446822,\n",
       " 0.3851675688198588,\n",
       " 0.08023577113971296,\n",
       " 0.10986185585075399,\n",
       " -0.4483708711493352,\n",
       " -0.8832875644294236,\n",
       " -0.17666342968684,\n",
       " 0.6091197433248785,\n",
       " 0.5502674338965121,\n",
       " -0.4510492093018721,\n",
       " -0.6671679576714902,\n",
       " -0.8885666661793541,\n",
       " 0.006268483539649594,\n",
       " 0.23145540660088523,\n",
       " 0.4218301343865006,\n",
       " -0.1626097091506327,\n",
       " -0.02448137514940041,\n",
       " 0.22737925959242605,\n",
       " 0.2878940931628475,\n",
       " 0.7131848422387539,\n",
       " 0.9723778150655409,\n",
       " -0.02778539323608592,\n",
       " -0.5399360384505932,\n",
       " -0.5007660972161218,\n",
       " -0.46753252863073347,\n",
       " 0.12854434486769556,\n",
       " -0.2331871374000003,\n",
       " -0.32098596844049815,\n",
       " -0.47218196908131005,\n",
       " -0.7216078127283339,\n",
       " -0.01910441161865689,\n",
       " 0.5797846624841716,\n",
       " -0.330638213694157,\n",
       " -0.38171144650741573,\n",
       " -0.5513684444989917,\n",
       " 0.2292464066895059,\n",
       " 0.48342616776124436,\n",
       " 0.8087933089573048,\n",
       " 0.37759009866184023,\n",
       " 0.03011636139089001,\n",
       " -0.31246403558391844,\n",
       " -0.13090511497120572,\n",
       " 0.15534943608857707,\n",
       " 0.5474367811758698,\n",
       " 0.2646327000676303,\n",
       " 0.4527140170025328,\n",
       " 0.9024723347855489,\n",
       " -0.012287833572652285,\n",
       " -0.49327361573137174,\n",
       " -0.45550254987453,\n",
       " -0.5535093026000606,\n",
       " -0.2819390037726769,\n",
       " 0.0682703685515621,\n",
       " -0.014829252845854818,\n",
       " 0.2191534614112492,\n",
       " -0.06293417789478492,\n",
       " -0.5597224420541637,\n",
       " -0.5203563676400841,\n",
       " -0.183365230243161,\n",
       " 0.4186627885599047,\n",
       " 0.2899523272957506,\n",
       " 0.06089139344215111,\n",
       " 0.019038412446027525,\n",
       " -0.1993508805575184,\n",
       " 0.014502352945316876,\n",
       " 0.029957524358229855,\n",
       " 0.08211410558907098,\n",
       " -0.10602598587782351,\n",
       " 0.8166093590397403,\n",
       " -0.13605923355190042,\n",
       " -0.5469465650543391,\n",
       " -0.5342296344071547,\n",
       " -0.1575044326042155,\n",
       " 0.6211116821123429,\n",
       " 0.8198192162188835,\n",
       " 0.1963584826058464,\n",
       " -0.02269162771435862,\n",
       " 0.2088876650857523,\n",
       " 0.34076525225376864,\n",
       " 0.1514561129915249,\n",
       " -0.004548104551935477,\n",
       " -0.13555704314911343,\n",
       " -0.07318926520773639,\n",
       " 0.0915646224913399,\n",
       " 0.040645939636070806,\n",
       " 0.2377849706767492,\n",
       " 0.03171840970386769,\n",
       " 0.2585444983240283,\n",
       " 0.6916323032269017,\n",
       " 0.855574064023132,\n",
       " 0.4966570543424229,\n",
       " -0.22699055349019742,\n",
       " -0.2165869992537377,\n",
       " -0.08495641735995972,\n",
       " -0.4995663592531601,\n",
       " 0.07743632994290378,\n",
       " 0.8178745455938241,\n",
       " 0.8222109205489899,\n",
       " 0.19660911983650678,\n",
       " 0.07814063802247276,\n",
       " 0.28035378057840493,\n",
       " -0.5195274460690772,\n",
       " -1.0884095358212889,\n",
       " -0.9463929017150126,\n",
       " -0.10758116363391976,\n",
       " 0.30403562152084446,\n",
       " 0.31380495083046456,\n",
       " 0.11467385122014633,\n",
       " 0.2594353648232112,\n",
       " 0.31419048099752933,\n",
       " -0.12663248600884355,\n",
       " -0.07081583489417292,\n",
       " -0.05515226314196691,\n",
       " 0.42606514846723637,\n",
       " 0.8394855332989709,\n",
       " 0.12818992949286323,\n",
       " -0.09309918645106902,\n",
       " 0.3155961120640102,\n",
       " 0.12222386655667974,\n",
       " 0.22052510832261757,\n",
       " 0.20622216685266886,\n",
       " 0.31180055626310976,\n",
       " 0.567848207741972,\n",
       " 0.7414119604977253,\n",
       " 0.27992772078452033,\n",
       " -0.08891839337263588,\n",
       " -0.33101827663272965,\n",
       " -0.558382259611548,\n",
       " -0.17945308723586073,\n",
       " 0.17875241554539206,\n",
       " -0.1380286199302797,\n",
       " 0.20839501935305954,\n",
       " -0.3767214355423645,\n",
       " -0.9101809302155144,\n",
       " -0.5791880760613489,\n",
       " 0.24927008659745709,\n",
       " 0.7515869048733794,\n",
       " 1.2190187559742922,\n",
       " 0.7208525179157028,\n",
       " 0.24984178637234025,\n",
       " -0.15067356400850346,\n",
       " -1.4048610877821903,\n",
       " -1.5443214711727666,\n",
       " -0.7831929464998593,\n",
       " -0.22921064235533056,\n",
       " 0.5433229394786371,\n",
       " 0.31015643979279206,\n",
       " 0.3780102370357359,\n",
       " 0.059266617066583996,\n",
       " 0.2719311267457589,\n",
       " 0.7609691954758444,\n",
       " 0.9104350177575278,\n",
       " 0.6825482956768583,\n",
       " 0.07615097179175158,\n",
       " -0.7070193097822529,\n",
       " -0.14603576344674868,\n",
       " 0.4318583432809311,\n",
       " -0.06353002350796455,\n",
       " 0.043171680566917586,\n",
       " -0.047140015421950066,\n",
       " 0.2291793313023785,\n",
       " 0.29730586759356525,\n",
       " -0.31265579570412344,\n",
       " -0.21483910384765306,\n",
       " 0.12801259819519556,\n",
       " 0.3945152513364656,\n",
       " -0.28789417679490303,\n",
       " -0.12375611914226037,\n",
       " -0.14565549748917356,\n",
       " -0.11830866495660003,\n",
       " 0.33172175301687634,\n",
       " 0.09984002186713417,\n",
       " 0.4086360755699036,\n",
       " 1.0386527149675961,\n",
       " 0.3667327153305424,\n",
       " -0.2062606741437239,\n",
       " -0.5044920066241919,\n",
       " -0.4061029033560951,\n",
       " -0.06123389216645902,\n",
       " 0.38534349507736954,\n",
       " 0.24953521240797324,\n",
       " 0.4064174717502118,\n",
       " 0.19308467544229696,\n",
       " -0.03234129368029209,\n",
       " -0.06489484139379882,\n",
       " 0.301473570795245,\n",
       " 0.4044429409265539,\n",
       " 0.22081033712018616,\n",
       " -0.10494439488872287,\n",
       " -0.15715429622694393,\n",
       " 0.024285940229544778,\n",
       " 0.5781102160875212,\n",
       " 0.43771519481271537,\n",
       " -0.14095575247775083,\n",
       " -0.3445597203689479,\n",
       " -0.2719728324068896,\n",
       " 0.025618826415749377,\n",
       " -0.04293817248877088,\n",
       " -0.2512955444084867,\n",
       " -0.9146717415447005,\n",
       " -0.12137458255831768,\n",
       " 0.013695136128894336,\n",
       " 0.23592444730594325,\n",
       " 0.36673718288989066,\n",
       " -0.1822927403627127,\n",
       " -0.2841230421413876,\n",
       " 0.004591645170381992,\n",
       " 0.6053323185875167,\n",
       " 0.7631194587342517,\n",
       " -0.2778565325870943,\n",
       " -0.7834110746762531,\n",
       " -0.6533616377124916,\n",
       " 0.48157277012108346,\n",
       " 0.3055768887370905,\n",
       " 0.7517274558445652,\n",
       " 0.6205663226061349,\n",
       " 0.1643142064678698,\n",
       " -0.2982873711263919,\n",
       " 0.24203349058202045,\n",
       " 0.20174767609698746,\n",
       " 0.2586985164775655,\n",
       " 0.06591569975105732,\n",
       " -0.3607799835972236,\n",
       " -0.8625590902707625,\n",
       " -0.48769020918345696,\n",
       " -0.16683362918521666,\n",
       " -0.3198713214273191,\n",
       " -0.7964351066092814,\n",
       " -0.5027297700941475,\n",
       " -0.5105327350412042,\n",
       " -0.0773453929494993,\n",
       " 0.6460191288209245,\n",
       " 1.1514744410303432,\n",
       " 1.2178192896008686,\n",
       " 0.4277103606391165,\n",
       " 0.26297681012742574,\n",
       " -0.034143152253364895,\n",
       " 0.003056202620454751,\n",
       " -0.21254273794332634,\n",
       " -0.047713842676633256,\n",
       " 0.57168352505546,\n",
       " 0.7527904677907487,\n",
       " 0.0003431886852909849,\n",
       " -0.3668967515471683,\n",
       " -0.4674758790283804,\n",
       " -0.6234174322497066,\n",
       " -0.7154908181827834,\n",
       " 0.2718481871041699,\n",
       " 0.8541269492159,\n",
       " 0.02053318976327001,\n",
       " -0.6331980840735386,\n",
       " -0.22740557767790426,\n",
       " -0.0896766824927149,\n",
       " -0.30440662243676136,\n",
       " -0.3380268899543364,\n",
       " -0.4879834416351495,\n",
       " -0.4453587330680133,\n",
       " -0.09083465912621598,\n",
       " 0.40569058082588483,\n",
       " 0.5835695564757045,\n",
       " -0.12516261080417684,\n",
       " 0.029621626714367744,\n",
       " 0.0225737090466926,\n",
       " -0.19219918019051146,\n",
       " 0.032517174800194226,\n",
       " -0.35532962676442525,\n",
       " 0.022464244978929737,\n",
       " -0.029570630554543814,\n",
       " 0.24019132223213652,\n",
       " 0.729498985440212,\n",
       " 0.21851137398477288,\n",
       " -0.05126876160998549,\n",
       " -0.16863981945557038,\n",
       " -0.026026083217459015,\n",
       " 0.2739172247913073,\n",
       " 0.06144979923670335,\n",
       " -0.338765727192406,\n",
       " -0.41476995179306547,\n",
       " -0.5624007508872568,\n",
       " -0.3237410854177017,\n",
       " -0.4774583415331999,\n",
       " 0.5142768074024069,\n",
       " -0.016150134991858467,\n",
       " -0.5023943588201921,\n",
       " -0.08251165882286193,\n",
       " 0.48167827588680534,\n",
       " 0.5620154521736268,\n",
       " -0.06506735868486091,\n",
       " 0.43093260008295103,\n",
       " 0.4992416814271608,\n",
       " 0.6368387874421245,\n",
       " 0.45808584956496756,\n",
       " -0.5824897092572745,\n",
       " -1.0355694590904685,\n",
       " -0.2908015679106378,\n",
       " 0.21553085466051813,\n",
       " -0.10826763718462118,\n",
       " -0.34192588525416745,\n",
       " 0.0731887989367084,\n",
       " -0.05993790510086161,\n",
       " -0.07891903068328024,\n",
       " 0.01625642613867795,\n",
       " 0.6265080373762334,\n",
       " -0.08153685729954385,\n",
       " -0.4343328353455359,\n",
       " 0.24349300424208487,\n",
       " 0.3006613792335249,\n",
       " 0.04531775962873079,\n",
       " 0.0295546414419212,\n",
       " 0.2544581351228957,\n",
       " 0.09696529352809742,\n",
       " -0.18293845529113162,\n",
       " -0.10963186853162858,\n",
       " 0.04498049088563444,\n",
       " -0.27380903519946426,\n",
       " -0.11490599066433388,\n",
       " 0.08847261842379436,\n",
       " -0.31307115875720126,\n",
       " 0.060072462494300094,\n",
       " -0.22336396134811626,\n",
       " -1.1277220308743552,\n",
       " -0.6058364270704504,\n",
       " 0.3545086287026154,\n",
       " 0.6528026235766258,\n",
       " 0.2511659261203607,\n",
       " 0.6205147145767436,\n",
       " -0.2276370053793294,\n",
       " -0.614616442602517,\n",
       " -0.61663251885123,\n",
       " -0.3151906686801386,\n",
       " -0.21750075309902517,\n",
       " -0.017468060241283327,\n",
       " -0.199530971216449,\n",
       " 0.2015699836351003,\n",
       " 0.6905670099160713,\n",
       " 0.44669675178428814,\n",
       " 0.27058760513334507,\n",
       " -0.14591452403860958,\n",
       " 0.29239856840825584,\n",
       " 0.865526521737074,\n",
       " 0.33468917952551813,\n",
       " -0.25811706652628486,\n",
       " -0.21562589153705364,\n",
       " 0.2690241572096931,\n",
       " 0.6027683740937732,\n",
       " 0.20464100322363768,\n",
       " 0.3403399161746379,\n",
       " 0.23890639734491173,\n",
       " -0.6041024274969551,\n",
       " -0.5227168680615124,\n",
       " -0.13882546194930956,\n",
       " 0.33462802558921645,\n",
       " 0.47747108017624407,\n",
       " -0.2755059333245322,\n",
       " 0.26392601191352255,\n",
       " 0.09291976718534695,\n",
       " 0.3036995127621124,\n",
       " 0.5955273940409096,\n",
       " 0.4105526205255015,\n",
       " -0.08372877507926405,\n",
       " 0.15908209407999652,\n",
       " 0.08624477440005997,\n",
       " 0.3634306150985577,\n",
       " 0.18407990464355867,\n",
       " -0.4434641606089933,\n",
       " -0.43037923803913897,\n",
       " -0.3434862334376887,\n",
       " -0.2475784129747982,\n",
       " -0.6756259546930349,\n",
       " 0.08689514657755282,\n",
       " -0.2661890899903298,\n",
       " -0.20718128837414906,\n",
       " -0.3197687331367086,\n",
       " 0.0856346860731339,\n",
       " 0.31696731347705065,\n",
       " 0.27249316716820404,\n",
       " 0.021318013063857222,\n",
       " -0.520242693724982,\n",
       " -0.22106862131205993,\n",
       " -0.03242784915047635,\n",
       " 0.3847374239688262,\n",
       " 0.3877995105750566,\n",
       " 0.03895745196971992,\n",
       " 0.14356935387928726,\n",
       " -0.002977645759489833,\n",
       " -0.10359135604372474,\n",
       " 0.14655599487865334,\n",
       " 0.31731829848397475,\n",
       " 0.5388202228543486,\n",
       " 0.2558147939173985,\n",
       " 0.41443229690233546,\n",
       " 0.10144553731634787,\n",
       " -0.12842237482153854,\n",
       " -0.29438800924260417,\n",
       " -0.4357724488414329,\n",
       " -0.22866861585170775,\n",
       " -0.06307119149460275,\n",
       " -0.096779692252188,\n",
       " -0.48817146369879544,\n",
       " -0.44349235279583527,\n",
       " -0.08394126607131489,\n",
       " 0.619195310682721,\n",
       " 0.4391632463002042,\n",
       " -0.3149586781887907,\n",
       " -0.3191079049474622,\n",
       " 0.5329600070112135,\n",
       " 0.5895292563164445,\n",
       " 0.17369931527306268,\n",
       " 0.15097140555081393,\n",
       " 0.18061993932116294,\n",
       " 0.04692221274442371,\n",
       " 0.05475114610370445,\n",
       " -0.007914868998938639,\n",
       " -0.17082712952737208,\n",
       " -0.008197015235186345,\n",
       " 0.6895811641193647,\n",
       " 0.32155282958944986,\n",
       " -0.471086454061444,\n",
       " -0.3585325159745304,\n",
       " 0.5575742021524708,\n",
       " 0.9202394324103665,\n",
       " 0.9548848452230496,\n",
       " -0.004921158624561439,\n",
       " 0.09082594708771607,\n",
       " -0.5780999533121121,\n",
       " -0.3844367575190267,\n",
       " -0.4654963041107001,\n",
       " -0.2885490527512699,\n",
       " 0.3436205810469276,\n",
       " 0.8291523008075492,\n",
       " 0.41679058989769674,\n",
       " 0.14309680956641213,\n",
       " 0.03411588929389102,\n",
       " -0.07722314745199202,\n",
       " -0.2974775046739211,\n",
       " 0.27716679778645326,\n",
       " 0.2630137745355394,\n",
       " 0.391927467975724,\n",
       " -0.10654452153261601,\n",
       " -0.28856461065214,\n",
       " 0.09369768919366703,\n",
       " -0.18266245098324652,\n",
       " 0.1665919524585912,\n",
       " 0.4162542151351517,\n",
       " 0.03225003913811522,\n",
       " -0.005881224084505976,\n",
       " -0.421220280857899,\n",
       " -0.13620802472569107,\n",
       " -0.017558120632222757,\n",
       " 0.14207695594651548,\n",
       " 0.4426181732967748,\n",
       " 0.429746771208242,\n",
       " -0.07528477026845129,\n",
       " -0.4704200395106354,\n",
       " -0.3587508620828608,\n",
       " -0.046074850641493616,\n",
       " 0.5811607148229659,\n",
       " 0.5649422620981714,\n",
       " 0.17855029436230996,\n",
       " -0.18693220374387232,\n",
       " -0.009054960916192845,\n",
       " -0.025384080669666784,\n",
       " 0.1495272911323656,\n",
       " -0.15589025113085547,\n",
       " -0.1262689137361413,\n",
       " -0.36317593796330316,\n",
       " -0.1111728141046871,\n",
       " 0.3131420030770603,\n",
       " 0.5057010940940064,\n",
       " 0.4684507492114843,\n",
       " 0.29401840046158556,\n",
       " 0.020546732541146074,\n",
       " -0.5572031854595738,\n",
       " -0.3274476408731487,\n",
       " 0.031136532444462475,\n",
       " 0.11379954929410147,\n",
       " 0.2040398753043239,\n",
       " 0.46700656366343085,\n",
       " 0.13334271562126074,\n",
       " -0.21874394205683134,\n",
       " -0.070424935735003,\n",
       " -0.05257794255679449,\n",
       " -0.11707361547736043,\n",
       " -0.4341028999817091,\n",
       " -0.5254802725244518,\n",
       " -0.4678594653587496,\n",
       " -0.16411932583605973,\n",
       " 0.31717792800798356,\n",
       " 0.5467544458432037,\n",
       " 0.43900718549498663,\n",
       " 0.3391178731342932,\n",
       " -0.2559206770162227,\n",
       " 0.14920183767668632,\n",
       " 0.9308593879288017,\n",
       " 0.35360051906870993,\n",
       " 0.13094580677174092,\n",
       " -0.48903721882603024,\n",
       " -0.12458663790291102,\n",
       " 0.19959434714603486,\n",
       " 0.5736025880029729,\n",
       " 0.37943725794081873,\n",
       " 0.40863277858166863,\n",
       " -0.3413863115523421,\n",
       " -0.2936966299676911,\n",
       " -0.2308357415638822,\n",
       " -0.644573808350576,\n",
       " -0.20916063737502805,\n",
       " 0.06458053085273732,\n",
       " 0.6290851957023431,\n",
       " 0.7765767446459353,\n",
       " 0.18209355438124786,\n",
       " 0.0012535447973874014,\n",
       " -0.6931919553643754,\n",
       " -0.565397265961951,\n",
       " 0.22811898787528823,\n",
       " 0.41253879380074504,\n",
       " 0.15158680801804367,\n",
       " -0.6647683665910451,\n",
       " -1.1586469749437696,\n",
       " -0.46121977730849284,\n",
       " -0.36344456856027263,\n",
       " 0.47503473198851065,\n",
       " 0.6206911252927005,\n",
       " 0.9720022004522308,\n",
       " 0.2703072883445891,\n",
       " 0.12720938424123754,\n",
       " -0.33326206471152814,\n",
       " 0.16889405757353648,\n",
       " -0.3140938284857856,\n",
       " -0.37481080519333093,\n",
       " -0.21186094775630676,\n",
       " 0.1863225700960763,\n",
       " 0.6352650776855284,\n",
       " 0.009465606066627164,\n",
       " -0.339293548661533,\n",
       " -0.3518933181004176,\n",
       " -1.1125022716569055,\n",
       " -0.14259218963734865,\n",
       " 0.14788576828714373,\n",
       " 0.7595592930799276,\n",
       " 0.6919780840119071,\n",
       " 0.15411558514286705,\n",
       " 0.2900289184871978,\n",
       " 0.553757017053721,\n",
       " -0.18323128607545075,\n",
       " -0.5495919543550911,\n",
       " -0.23201773890653757,\n",
       " 0.4318930678531204,\n",
       " 0.10143065536416163,\n",
       " -0.0042212077552959415,\n",
       " 0.4873559674990759,\n",
       " 0.17674877559373942,\n",
       " -0.09455726166890441,\n",
       " -0.7569593835953842,\n",
       " -0.7598965331320315,\n",
       " -0.36687946682936456,\n",
       " -0.6464774533365378,\n",
       " -0.23677714571419417,\n",
       " 0.7021352829945132,\n",
       " 1.0946836675511906,\n",
       " 0.24556084096447917,\n",
       " -0.027307730774325745,\n",
       " 0.057067783639089056,\n",
       " -0.20126478581625787,\n",
       " 0.13394284421469071,\n",
       " 0.3020716489721653,\n",
       " 0.08040870852156576,\n",
       " 0.08971790843517521,\n",
       " -0.23448911642183573,\n",
       " -0.016896227032715982,\n",
       " -0.5384014644645445,\n",
       " -0.4645897339007209,\n",
       " -0.37625667464407125,\n",
       " -0.5110172929584659,\n",
       " -0.30577977190081707,\n",
       " 0.027665701345575167,\n",
       " -0.4722306099772451,\n",
       " -0.8121719706471251,\n",
       " -0.34345387097416474,\n",
       " 0.5019171168725503,\n",
       " 0.3514497501148536,\n",
       " -0.018411998257352125,\n",
       " -0.13998786920946152,\n",
       " -0.061618096801118113,\n",
       " -0.13182381375247104,\n",
       " -0.12873459893300673,\n",
       " 0.07673494669118316,\n",
       " -0.5902525358279046,\n",
       " -0.6846175948150557,\n",
       " -0.06297168831922514,\n",
       " -0.217295419381974,\n",
       " -0.035039138304154754,\n",
       " 0.4291580435418585,\n",
       " 0.5719535409950854,\n",
       " 0.24608002911855084,\n",
       " 0.015700443964573797,\n",
       " -0.36556711455743435,\n",
       " -0.4949599584608182,\n",
       " -0.17786576776281598,\n",
       " 0.3473370080731726,\n",
       " -0.3319947186200046,\n",
       " -0.520192997535266,\n",
       " -0.40220822688667573,\n",
       " -0.009353640994567272,\n",
       " 0.46393416619530525,\n",
       " 0.724609199039052,\n",
       " -0.11618801073446816,\n",
       " 0.11102315442479949,\n",
       " 0.26384333499046075,\n",
       " 0.2802682754607363,\n",
       " -0.07562433359832224,\n",
       " -0.7075552252972307,\n",
       " -0.29587211425825943,\n",
       " -0.16942939918968308,\n",
       " -0.3456080929194921,\n",
       " -0.007874895013581185,\n",
       " -0.057801416053389426,\n",
       " -0.09341363831216373,\n",
       " -0.18367225314952876,\n",
       " 0.2513973900368972,\n",
       " -0.37147217862879667,\n",
       " -0.3581969252982219,\n",
       " -0.07358218229566282,\n",
       " -0.19536226691677513,\n",
       " -0.13535626932691755,\n",
       " 0.10957456392504437,\n",
       " 0.45929422262242725,\n",
       " 0.5395387393274833,\n",
       " 0.35101774817912607,\n",
       " 0.1995169463813648,\n",
       " -1.0649025381104402,\n",
       " -1.0254383765220578,\n",
       " -0.5335102656221854,\n",
       " -0.29085441314784954,\n",
       " -0.05104138198243452,\n",
       " 0.39753414463272346,\n",
       " -0.06205011228343377,\n",
       " -0.1558947173977356,\n",
       " -0.05768457405695015,\n",
       " 0.22872303222455825,\n",
       " 0.3789356932327666,\n",
       " 0.45800121447366693,\n",
       " -0.04123172456473842,\n",
       " -0.638297779217931,\n",
       " -0.002494427871365945,\n",
       " -0.2511458707960837,\n",
       " -0.5986010550208827,\n",
       " -0.8422592005595788,\n",
       " -0.2470220970993653,\n",
       " 0.3696455325884632,\n",
       " 0.42209089646684095,\n",
       " 0.17172897154050942,\n",
       " -0.5661303601491209,\n",
       " -0.4233057553950334,\n",
       " -0.6647594752729751,\n",
       " 0.05127122442454729,\n",
       " 0.1945002403098572,\n",
       " 0.39049006772856504,\n",
       " 0.26777430289685134,\n",
       " 0.21761157212570015,\n",
       " -0.30704810383112685,\n",
       " -0.3144433247038808,\n",
       " -0.028720772867947164,\n",
       " -0.4559133351776111,\n",
       " 0.1099531295061894,\n",
       " 0.30015962503433313,\n",
       " 0.13450412573911222,\n",
       " 0.05888716705225572,\n",
       " 0.002777285804833527,\n",
       " -0.40071320726078047,\n",
       " -0.16341944680039064,\n",
       " 0.002921113855564768,\n",
       " 0.021850679430165873,\n",
       " -0.10454999335680822,\n",
       " 0.09360941001153,\n",
       " 0.955867272674184,\n",
       " 0.3787953991198918,\n",
       " -0.2717172844494078,\n",
       " -0.47667232742332305,\n",
       " -0.21033182795128616,\n",
       " 0.37972964046189106,\n",
       " 0.04680431640701338,\n",
       " -0.031747705423981115,\n",
       " 0.10563389962385238,\n",
       " -0.19998495347826956,\n",
       " 0.18386549097039478,\n",
       " -0.04262383903905331,\n",
       " 0.1258473332709012,\n",
       " 0.22601734142131413,\n",
       " -0.15369232048270592,\n",
       " -0.1985099071460952,\n",
       " -0.6001046378387707,\n",
       " -0.01488692066264341,\n",
       " 0.07563500018493638,\n",
       " 0.1662854071144774,\n",
       " 0.08764221405867559,\n",
       " -0.14001350524823153,\n",
       " -0.3231350481749194,\n",
       " -0.12239551154676513,\n",
       " 0.11753997311523487,\n",
       " 0.1050082506636518,\n",
       " 0.1507662242280531,\n",
       " -0.363785163662089,\n",
       " -0.22410556883302882,\n",
       " -0.048267224650126894,\n",
       " 0.557536811694929,\n",
       " 0.6153001882068808,\n",
       " 0.5845411509876395,\n",
       " -0.07938861028102026,\n",
       " -0.20728710874915696,\n",
       " -0.31793230553269114,\n",
       " -0.1805132029039194,\n",
       " 0.12146894393398244,\n",
       " 0.0169336116595038,\n",
       " -0.09363151004240713,\n",
       " -0.260593997496255,\n",
       " -0.34897629457212215,\n",
       " -0.27260629852754237,\n",
       " -0.5931575850213111,\n",
       " -0.3163306564971526,\n",
       " -0.15847449665942143,\n",
       " -0.05565381067979238,\n",
       " -0.05272891024903395,\n",
       " 0.11003999692037045,\n",
       " 0.5715655003548187,\n",
       " 0.4604094772171639,\n",
       " -0.10507626733979053,\n",
       " -0.3231258109994294,\n",
       " 0.12583011474989392,\n",
       " 0.0400436797037059,\n",
       " 0.3253933033168329,\n",
       " -0.21362215897362516,\n",
       " -0.00801270838631113,\n",
       " -0.19126163266314633,\n",
       " -0.047272916687634475,\n",
       " -0.13757960983900686,\n",
       " -0.026967874679801412,\n",
       " -0.5808946974601809,\n",
       " -0.5157329687123129,\n",
       " 0.133436002588238,\n",
       " 0.6808846126222807,\n",
       " 0.29230461873114927,\n",
       " -0.05795963533052223,\n",
       " -0.5836164847917176,\n",
       " -0.215046493473214,\n",
       " 0.5197291747761186,\n",
       " 0.8942608405675234,\n",
       " 0.6234296166632812,\n",
       " 0.4013110409227162,\n",
       " 0.23485452228940146,\n",
       " -0.11357089921995167,\n",
       " -0.062846361338102,\n",
       " -0.02659865613088101,\n",
       " -0.09410206250284248,\n",
       " 0.06736866387797526,\n",
       " -0.22754647441240128,\n",
       " -0.37029956890937726,\n",
       " -0.4085947918148475,\n",
       " -0.07261750501061365,\n",
       " 0.05094452935398107,\n",
       " 0.7270493581447236,\n",
       " 0.630295930249067,\n",
       " 0.3305252746361374,\n",
       " -0.2553406979367293,\n",
       " 0.10403739068623197,\n",
       " 0.2603229418231229,\n",
       " 0.6015217419732402,\n",
       " 0.6514567670309146,\n",
       " 0.6492145941340003,\n",
       " 0.3403929057388956,\n",
       " 0.23819853370552044,\n",
       " -0.06258276659539673,\n",
       " -0.4063920348970463,\n",
       " -0.034407146536065636,\n",
       " 0.4479238608383832,\n",
       " 0.6985841345749122,\n",
       " 0.22960604542162702,\n",
       " -0.37326576165711156,\n",
       " -0.4350988465496878,\n",
       " 0.25471729252118214,\n",
       " 0.5191636026010662,\n",
       " -0.02727982842308102,\n",
       " -0.29221752675657375,\n",
       " -0.44799092826318765,\n",
       " -0.27572036185780474,\n",
       " 0.26428085629848075,\n",
       " 0.35381896292287907,\n",
       " 0.47313596911472167,\n",
       " 0.3449447877286659,\n",
       " -0.013506502121467354,\n",
       " -0.0230790580889165,\n",
       " 0.002166746774890569,\n",
       " 0.08362445842739044,\n",
       " -0.10217595131817564,\n",
       " -0.22965320142003423,\n",
       " -1.016443975816469,\n",
       " -0.16720338541934054,\n",
       " 0.29829058333249703,\n",
       " 0.7807620398425784,\n",
       " 0.06226093490945667,\n",
       " 0.08697719579957047,\n",
       " -0.3106062836352077,\n",
       " 0.10396180486251372,\n",
       " 0.6791362906996015,\n",
       " 0.34271690382495684,\n",
       " -0.2960668450231526,\n",
       " -0.49390459307177476,\n",
       " -0.7942804552525596,\n",
       " -0.4938134432610523,\n",
       " 0.4406921127237003,\n",
       " 0.44666083094563186,\n",
       " 0.2533422316330953,\n",
       " 0.5854872324972098,\n",
       " -0.3363681030350385,\n",
       " -0.06235102374825552,\n",
       " 0.6471776982432109,\n",
       " 0.22913331386535551,\n",
       " -0.6748613299063614,\n",
       " -0.5636735815301435,\n",
       " -0.257152936784257,\n",
       " -0.2725636566965183,\n",
       " -0.12171704824439039,\n",
       " -0.24982070420739283,\n",
       " -0.2901334452638413,\n",
       " -0.040728555562726476,\n",
       " 0.18402408133002407,\n",
       " 0.17482762715876218,\n",
       " 0.3933495425075795,\n",
       " 0.08444439856939573,\n",
       " 0.2987517933812384,\n",
       " -0.1361916016568685,\n",
       " -0.7039546409066053,\n",
       " -0.561610882345489,\n",
       " -0.22585761790869283,\n",
       " -0.27324138503595063,\n",
       " -0.22081571705750283,\n",
       " -0.3300163296726813,\n",
       " -0.2615433947971276,\n",
       " 0.18384399880506433,\n",
       " 0.6063605903845423,\n",
       " 0.5671388902283092,\n",
       " 0.45118458080120727,\n",
       " -0.0057323792609499935,\n",
       " 0.2212438284488508,\n",
       " 0.43266879781205736,\n",
       " 0.5818329933953221,\n",
       " 0.327658209518181,\n",
       " -0.07639763927654288,\n",
       " -0.5006291892116452,\n",
       " -0.42128700102704764,\n",
       " -0.358946170212602,\n",
       " -0.4065688848264948,\n",
       " -0.08593884178901755,\n",
       " 0.4375722501838705,\n",
       " 0.5173723371133987,\n",
       " 0.5754176913466129,\n",
       " 0.07082825230989911,\n",
       " -0.25772847615591205,\n",
       " 0.3239953612495814,\n",
       " 0.15239106063426303,\n",
       " -0.05482659531197898,\n",
       " -0.10943769745043609,\n",
       " -0.16174784520484864,\n",
       " 0.009470238094142394,\n",
       " -0.1205743236306782,\n",
       " -0.22095454758029465,\n",
       " -0.057988897115682586,\n",
       " 0.1192954773932784,\n",
       " 0.10721466803679605,\n",
       " 0.7379114719690895,\n",
       " 0.2520345703869184,\n",
       " 0.17893487076838938,\n",
       " 0.3149363206837971,\n",
       " -0.17284581285348932,\n",
       " -0.48116872669404964,\n",
       " -0.6190167447057142,\n",
       " -0.6826529433444861,\n",
       " -0.8093825604055791,\n",
       " -0.7300565673929068,\n",
       " -0.6553070359670805,\n",
       " -0.5154858545829859,\n",
       " -0.17727800125016902,\n",
       " 0.1513799651682577,\n",
       " 0.5649196106321555,\n",
       " -0.6156045867777228,\n",
       " -0.2852538069039932,\n",
       " -0.32185310175894544,\n",
       " -0.17182138432345742,\n",
       " -0.5675769104018876,\n",
       " -0.4566436667730579,\n",
       " 0.043347777740450205,\n",
       " -0.2032366491451511,\n",
       " -0.28435355769603404,\n",
       " -0.3424427197747788,\n",
       " -0.3049216351011099,\n",
       " -0.2961275449657329,\n",
       " -0.2395220103729334,\n",
       " -0.3654651698933734,\n",
       " -0.09902264459489513,\n",
       " -0.21332779314639916,\n",
       " -0.21089826789112603,\n",
       " 0.36640166167400234,\n",
       " 0.41832591047815587,\n",
       " 0.0820848104689015,\n",
       " 0.48229547523468586,\n",
       " 0.583740186050406,\n",
       " 1.040519123725995,\n",
       " 0.5713806620117725,\n",
       " 0.12267781555168505,\n",
       " -0.15807073233508576,\n",
       " 0.011084362400579917,\n",
       " -0.31356913592940433,\n",
       " -0.16902593061729562,\n",
       " -0.8609467075320187,\n",
       " -0.12537150599604413,\n",
       " 0.32789144267838843,\n",
       " 0.018555769343647832,\n",
       " 0.16373536527895632,\n",
       " -0.36885769319685385,\n",
       " -1.072800132295376,\n",
       " -1.043298509723896,\n",
       " -0.3846546219060518,\n",
       " -0.24073877342152006,\n",
       " 0.7561186730171829,\n",
       " 0.6076314355885316,\n",
       " 0.3769580867516493,\n",
       " 0.19314988491995982,\n",
       " -0.06321580898377181,\n",
       " 0.3504171124035285,\n",
       " 0.9497701016765165,\n",
       " 0.7016552105047688,\n",
       " 0.37945135439600813,\n",
       " 0.5065715057242524,\n",
       " 0.20501355564396065,\n",
       " -0.06683714711102708,\n",
       " -0.3342670345157076,\n",
       " ...]"
      ]
     },
     "execution_count": 67,
     "metadata": {},
     "output_type": "execute_result"
    }
   ],
   "source": [
    "values"
   ]
  },
  {
   "cell_type": "code",
   "execution_count": 68,
   "metadata": {},
   "outputs": [
    {
     "data": {
      "text/plain": [
       "[<matplotlib.lines.Line2D at 0x2851d3d6240>]"
      ]
     },
     "execution_count": 68,
     "metadata": {},
     "output_type": "execute_result"
    },
    {
     "data": {
      "image/png": "[encoded data removed]",
      "text/plain": [
       "<Figure size 720x432 with 1 Axes>"
      ]
     },
     "metadata": {
      "needs_background": "light"
     },
     "output_type": "display_data"
    }
   ],
   "source": [
    "from matplotlib import pyplot as plt\n",
    "plt.plot(values)\n",
    "# plt.show()"
   ]
  },
  {
   "cell_type": "code",
   "execution_count": 69,
   "metadata": {},
   "outputs": [
    {
     "name": "stderr",
     "output_type": "stream",
     "text": [
      "C:\\Users\\Public\\Anaconda3\\lib\\site-packages\\statsmodels\\tsa\\ar_model.py:791: FutureWarning: \n",
      "statsmodels.tsa.AR has been deprecated in favor of statsmodels.tsa.AutoReg and\n",
      "statsmodels.tsa.SARIMAX.\n",
      "\n",
      "AutoReg adds the ability to specify exogenous variables, include time trends,\n",
      "and add seasonal dummies. The AutoReg API differs from AR since the model is\n",
      "treated as immutable, and so the entire specification including the lag\n",
      "length must be specified when creating the model. This change is too\n",
      "substantial to incorporate into the existing AR api. The function\n",
      "ar_select_order performs lag length selection for AutoReg models.\n",
      "\n",
      "AutoReg only estimates parameters using conditional MLE (OLS). Use SARIMAX to\n",
      "estimate ARX and related models using full MLE via the Kalman Filter.\n",
      "\n",
      "To silence this warning and continue using AR until it is removed, use:\n",
      "\n",
      "import warnings\n",
      "warnings.filterwarnings('ignore', 'statsmodels.tsa.ar_model.AR', FutureWarning)\n",
      "\n",
      "  warnings.warn(AR_DEPRECATION_WARN, FutureWarning)\n"
     ]
    }
   ],
   "source": [
    "# expected error due to replacement in newer version\n",
    "MAXLAGS = 5\n",
    "model = sm.tsa.AR(values)\n",
    "results = model.fit(MAXLAGS)"
   ]
  },
  {
   "cell_type": "code",
   "execution_count": 70,
   "metadata": {},
   "outputs": [
    {
     "name": "stderr",
     "output_type": "stream",
     "text": [
      "C:\\Users\\Public\\Anaconda3\\lib\\site-packages\\statsmodels\\tsa\\ar_model.py:252: FutureWarning: The parameter names will change after 0.12 is released. Set old_names to False to use the new names now. Set old_names to True to use the old names. \n",
      "  FutureWarning,\n"
     ]
    }
   ],
   "source": [
    "# Instead, this is the fix\n",
    "from statsmodels.tsa.ar_model import AutoReg\n",
    "model = AutoReg(values, lags = MAXLAGS).fit()"
   ]
  },
  {
   "cell_type": "code",
   "execution_count": 71,
   "metadata": {},
   "outputs": [],
   "source": [
    "AutoReg?"
   ]
  },
  {
   "cell_type": "markdown",
   "metadata": {},
   "source": [
    "## 最優模型選擇準則：AIC和BIC\n",
    "https://www.itread01.com/ielqf.html\n",
    "有一個指標，講的是，雖然用的階數愈多，\n",
    "擬合效果愈好，但有可能會過擬合，\n",
    "而且用太多的參數也浪費，\n",
    "那有沒有不要用太多階的參數，而且效果不錯？"
   ]
  },
  {
   "cell_type": "code",
   "execution_count": 72,
   "metadata": {},
   "outputs": [
    {
     "data": {
      "text/plain": [
       "array([ 0.0079,  0.7107, -0.3169, -0.0672,  0.0041, -0.0008])"
      ]
     },
     "execution_count": 72,
     "metadata": {},
     "output_type": "execute_result"
    }
   ],
   "source": [
    "model.params"
   ]
  },
  {
   "cell_type": "code",
   "execution_count": 73,
   "metadata": {},
   "outputs": [],
   "source": [
    "# 待會 print() 輸出的格式\n",
    "out = 'AIC: {0:0.3f}, HQIC: {1:0.3f}, BIC: {2:0.3f}'"
   ]
  },
  {
   "cell_type": "code",
   "execution_count": 74,
   "metadata": {},
   "outputs": [
    {
     "name": "stdout",
     "output_type": "stream",
     "text": [
      "AIC: -2.278, HQIC: -2.265, BIC: -2.243\n"
     ]
    }
   ],
   "source": [
    "print(out.format(model.aic, model.hqic, model.bic))"
   ]
  },
  {
   "cell_type": "code",
   "execution_count": 75,
   "metadata": {},
   "outputs": [
    {
     "name": "stdout",
     "output_type": "stream",
     "text": [
      "AIC: -2.277, HQIC: -2.270, BIC: -2.257\n"
     ]
    }
   ],
   "source": [
    "# 要是我們「作弊」，假設先知道 lags =2 的話，那…\n",
    "res = AutoReg(values, lags = 2).fit()\n",
    "print(out.format(res.aic, res.hqic, res.bic))"
   ]
  },
  {
   "cell_type": "code",
   "execution_count": 76,
   "metadata": {},
   "outputs": [
    {
     "data": {
      "text/plain": [
       "array([ 0.0078,  0.7468, -0.3562])"
      ]
     },
     "execution_count": 76,
     "metadata": {},
     "output_type": "execute_result"
    }
   ],
   "source": [
    "res.params"
   ]
  },
  {
   "cell_type": "code",
   "execution_count": 77,
   "metadata": {},
   "outputs": [
    {
     "name": "stdout",
     "output_type": "stream",
     "text": [
      "AIC: -2.095, HQIC: -2.070, BIC: -2.031\n"
     ]
    }
   ],
   "source": [
    "# another bad estimate, assuming lag of 2 with a season of period 11\n",
    "res = AutoReg(values, lags=1, seasonal=True, period=11).fit()\n",
    "print(out.format(res.aic, res.hqic, res.bic))"
   ]
  },
  {
   "cell_type": "markdown",
   "metadata": {},
   "source": [
    "## §13.4 Introduction to scikit-learn"
   ]
  },
  {
   "cell_type": "markdown",
   "metadata": {},
   "source": [
    "## StatQuest: Logistic Regression\n",
    "https://www.youtube.com/watch?v=yIYKR4sgzI8"
   ]
  },
  {
   "cell_type": "markdown",
   "metadata": {},
   "source": [
    "### Sigmoid function\n",
    "![hmfile_hash_38a8acae.png](hmfile_hash_38a8acae.png)"
   ]
  },
  {
   "cell_type": "markdown",
   "metadata": {},
   "source": [
    "## Logistic Regression in Python\n",
    "https://vinesmsuic.github.io/2020/07/09/datascience4/#accuracy"
   ]
  },
  {
   "cell_type": "markdown",
   "metadata": {},
   "source": [
    "## A Comprehensive Guide to Logistic Regression\n",
    "https://medium.com/analytics-vidhya/a-comprehensive-guide-to-logistic-regression-e0cf04fe738c"
   ]
  },
  {
   "cell_type": "markdown",
   "metadata": {},
   "source": [
    "## Intro to Machine Learning with Python 4: Train a Logistic Regression Model\n",
    "https://www.youtube.com/watch?v=f3kSEebz8QA"
   ]
  },
  {
   "cell_type": "code",
   "execution_count": 79,
   "metadata": {},
   "outputs": [
    {
     "data": {
      "text/html": [
       "<div>\n",
       "<style scoped>\n",
       "    .dataframe tbody tr th:only-of-type {\n",
       "        vertical-align: middle;\n",
       "    }\n",
       "\n",
       "    .dataframe tbody tr th {\n",
       "        vertical-align: top;\n",
       "    }\n",
       "\n",
       "    .dataframe thead th {\n",
       "        text-align: right;\n",
       "    }\n",
       "</style>\n",
       "<table border=\"1\" class=\"dataframe\">\n",
       "  <thead>\n",
       "    <tr style=\"text-align: right;\">\n",
       "      <th></th>\n",
       "      <th>PassengerId</th>\n",
       "      <th>Survived</th>\n",
       "      <th>Pclass</th>\n",
       "      <th>Name</th>\n",
       "      <th>Sex</th>\n",
       "      <th>Age</th>\n",
       "      <th>SibSp</th>\n",
       "      <th>Parch</th>\n",
       "      <th>Ticket</th>\n",
       "      <th>Fare</th>\n",
       "      <th>Cabin</th>\n",
       "      <th>Embarked</th>\n",
       "    </tr>\n",
       "  </thead>\n",
       "  <tbody>\n",
       "    <tr>\n",
       "      <th>0</th>\n",
       "      <td>1</td>\n",
       "      <td>0</td>\n",
       "      <td>3</td>\n",
       "      <td>Braund, Mr. Owen Harris</td>\n",
       "      <td>male</td>\n",
       "      <td>22.0</td>\n",
       "      <td>1</td>\n",
       "      <td>0</td>\n",
       "      <td>A/5 21171</td>\n",
       "      <td>7.2500</td>\n",
       "      <td>NaN</td>\n",
       "      <td>S</td>\n",
       "    </tr>\n",
       "    <tr>\n",
       "      <th>1</th>\n",
       "      <td>2</td>\n",
       "      <td>1</td>\n",
       "      <td>1</td>\n",
       "      <td>Cumings, Mrs. John Bradley (Florence Briggs Th...</td>\n",
       "      <td>female</td>\n",
       "      <td>38.0</td>\n",
       "      <td>1</td>\n",
       "      <td>0</td>\n",
       "      <td>PC 17599</td>\n",
       "      <td>71.2833</td>\n",
       "      <td>C85</td>\n",
       "      <td>C</td>\n",
       "    </tr>\n",
       "    <tr>\n",
       "      <th>2</th>\n",
       "      <td>3</td>\n",
       "      <td>1</td>\n",
       "      <td>3</td>\n",
       "      <td>Heikkinen, Miss. Laina</td>\n",
       "      <td>female</td>\n",
       "      <td>26.0</td>\n",
       "      <td>0</td>\n",
       "      <td>0</td>\n",
       "      <td>STON/O2. 3101282</td>\n",
       "      <td>7.9250</td>\n",
       "      <td>NaN</td>\n",
       "      <td>S</td>\n",
       "    </tr>\n",
       "    <tr>\n",
       "      <th>3</th>\n",
       "      <td>4</td>\n",
       "      <td>1</td>\n",
       "      <td>1</td>\n",
       "      <td>Futrelle, Mrs. Jacques Heath (Lily May Peel)</td>\n",
       "      <td>female</td>\n",
       "      <td>35.0</td>\n",
       "      <td>1</td>\n",
       "      <td>0</td>\n",
       "      <td>113803</td>\n",
       "      <td>53.1000</td>\n",
       "      <td>C123</td>\n",
       "      <td>S</td>\n",
       "    </tr>\n",
       "    <tr>\n",
       "      <th>4</th>\n",
       "      <td>5</td>\n",
       "      <td>0</td>\n",
       "      <td>3</td>\n",
       "      <td>Allen, Mr. William Henry</td>\n",
       "      <td>male</td>\n",
       "      <td>35.0</td>\n",
       "      <td>0</td>\n",
       "      <td>0</td>\n",
       "      <td>373450</td>\n",
       "      <td>8.0500</td>\n",
       "      <td>NaN</td>\n",
       "      <td>S</td>\n",
       "    </tr>\n",
       "    <tr>\n",
       "      <th>5</th>\n",
       "      <td>6</td>\n",
       "      <td>0</td>\n",
       "      <td>3</td>\n",
       "      <td>Moran, Mr. James</td>\n",
       "      <td>male</td>\n",
       "      <td>NaN</td>\n",
       "      <td>0</td>\n",
       "      <td>0</td>\n",
       "      <td>330877</td>\n",
       "      <td>8.4583</td>\n",
       "      <td>NaN</td>\n",
       "      <td>Q</td>\n",
       "    </tr>\n",
       "  </tbody>\n",
       "</table>\n",
       "</div>"
      ],
      "text/plain": [
       "   PassengerId  Survived  Pclass  \\\n",
       "0            1         0       3   \n",
       "1            2         1       1   \n",
       "2            3         1       3   \n",
       "3            4         1       1   \n",
       "4            5         0       3   \n",
       "5            6         0       3   \n",
       "\n",
       "                                                Name     Sex   Age  SibSp  \\\n",
       "0                            Braund, Mr. Owen Harris    male  22.0      1   \n",
       "1  Cumings, Mrs. John Bradley (Florence Briggs Th...  female  38.0      1   \n",
       "2                             Heikkinen, Miss. Laina  female  26.0      0   \n",
       "3       Futrelle, Mrs. Jacques Heath (Lily May Peel)  female  35.0      1   \n",
       "4                           Allen, Mr. William Henry    male  35.0      0   \n",
       "5                                   Moran, Mr. James    male   NaN      0   \n",
       "\n",
       "   Parch            Ticket     Fare Cabin Embarked  \n",
       "0      0         A/5 21171   7.2500   NaN        S  \n",
       "1      0          PC 17599  71.2833   C85        C  \n",
       "2      0  STON/O2. 3101282   7.9250   NaN        S  \n",
       "3      0            113803  53.1000  C123        S  \n",
       "4      0            373450   8.0500   NaN        S  \n",
       "5      0            330877   8.4583   NaN        Q  "
      ]
     },
     "execution_count": 79,
     "metadata": {},
     "output_type": "execute_result"
    }
   ],
   "source": [
    "train = pd.read_csv('datasets/titanic/train.csv')\n",
    "test = pd.read_csv('datasets/titanic/test.csv')\n",
    "train[:6]"
   ]
  },
  {
   "cell_type": "code",
   "execution_count": 80,
   "metadata": {},
   "outputs": [
    {
     "data": {
      "text/html": [
       "<div>\n",
       "<style scoped>\n",
       "    .dataframe tbody tr th:only-of-type {\n",
       "        vertical-align: middle;\n",
       "    }\n",
       "\n",
       "    .dataframe tbody tr th {\n",
       "        vertical-align: top;\n",
       "    }\n",
       "\n",
       "    .dataframe thead th {\n",
       "        text-align: right;\n",
       "    }\n",
       "</style>\n",
       "<table border=\"1\" class=\"dataframe\">\n",
       "  <thead>\n",
       "    <tr style=\"text-align: right;\">\n",
       "      <th></th>\n",
       "      <th>PassengerId</th>\n",
       "      <th>Pclass</th>\n",
       "      <th>Name</th>\n",
       "      <th>Sex</th>\n",
       "      <th>Age</th>\n",
       "      <th>SibSp</th>\n",
       "      <th>Parch</th>\n",
       "      <th>Ticket</th>\n",
       "      <th>Fare</th>\n",
       "      <th>Cabin</th>\n",
       "      <th>Embarked</th>\n",
       "    </tr>\n",
       "  </thead>\n",
       "  <tbody>\n",
       "    <tr>\n",
       "      <th>0</th>\n",
       "      <td>892</td>\n",
       "      <td>3</td>\n",
       "      <td>Kelly, Mr. James</td>\n",
       "      <td>male</td>\n",
       "      <td>34.5</td>\n",
       "      <td>0</td>\n",
       "      <td>0</td>\n",
       "      <td>330911</td>\n",
       "      <td>7.8292</td>\n",
       "      <td>NaN</td>\n",
       "      <td>Q</td>\n",
       "    </tr>\n",
       "    <tr>\n",
       "      <th>1</th>\n",
       "      <td>893</td>\n",
       "      <td>3</td>\n",
       "      <td>Wilkes, Mrs. James (Ellen Needs)</td>\n",
       "      <td>female</td>\n",
       "      <td>47.0</td>\n",
       "      <td>1</td>\n",
       "      <td>0</td>\n",
       "      <td>363272</td>\n",
       "      <td>7.0000</td>\n",
       "      <td>NaN</td>\n",
       "      <td>S</td>\n",
       "    </tr>\n",
       "    <tr>\n",
       "      <th>2</th>\n",
       "      <td>894</td>\n",
       "      <td>2</td>\n",
       "      <td>Myles, Mr. Thomas Francis</td>\n",
       "      <td>male</td>\n",
       "      <td>62.0</td>\n",
       "      <td>0</td>\n",
       "      <td>0</td>\n",
       "      <td>240276</td>\n",
       "      <td>9.6875</td>\n",
       "      <td>NaN</td>\n",
       "      <td>Q</td>\n",
       "    </tr>\n",
       "    <tr>\n",
       "      <th>3</th>\n",
       "      <td>895</td>\n",
       "      <td>3</td>\n",
       "      <td>Wirz, Mr. Albert</td>\n",
       "      <td>male</td>\n",
       "      <td>27.0</td>\n",
       "      <td>0</td>\n",
       "      <td>0</td>\n",
       "      <td>315154</td>\n",
       "      <td>8.6625</td>\n",
       "      <td>NaN</td>\n",
       "      <td>S</td>\n",
       "    </tr>\n",
       "    <tr>\n",
       "      <th>4</th>\n",
       "      <td>896</td>\n",
       "      <td>3</td>\n",
       "      <td>Hirvonen, Mrs. Alexander (Helga E Lindqvist)</td>\n",
       "      <td>female</td>\n",
       "      <td>22.0</td>\n",
       "      <td>1</td>\n",
       "      <td>1</td>\n",
       "      <td>3101298</td>\n",
       "      <td>12.2875</td>\n",
       "      <td>NaN</td>\n",
       "      <td>S</td>\n",
       "    </tr>\n",
       "    <tr>\n",
       "      <th>5</th>\n",
       "      <td>897</td>\n",
       "      <td>3</td>\n",
       "      <td>Svensson, Mr. Johan Cervin</td>\n",
       "      <td>male</td>\n",
       "      <td>14.0</td>\n",
       "      <td>0</td>\n",
       "      <td>0</td>\n",
       "      <td>7538</td>\n",
       "      <td>9.2250</td>\n",
       "      <td>NaN</td>\n",
       "      <td>S</td>\n",
       "    </tr>\n",
       "  </tbody>\n",
       "</table>\n",
       "</div>"
      ],
      "text/plain": [
       "   PassengerId  Pclass                                          Name     Sex  \\\n",
       "0          892       3                              Kelly, Mr. James    male   \n",
       "1          893       3              Wilkes, Mrs. James (Ellen Needs)  female   \n",
       "2          894       2                     Myles, Mr. Thomas Francis    male   \n",
       "3          895       3                              Wirz, Mr. Albert    male   \n",
       "4          896       3  Hirvonen, Mrs. Alexander (Helga E Lindqvist)  female   \n",
       "5          897       3                    Svensson, Mr. Johan Cervin    male   \n",
       "\n",
       "    Age  SibSp  Parch   Ticket     Fare Cabin Embarked  \n",
       "0  34.5      0      0   330911   7.8292   NaN        Q  \n",
       "1  47.0      1      0   363272   7.0000   NaN        S  \n",
       "2  62.0      0      0   240276   9.6875   NaN        Q  \n",
       "3  27.0      0      0   315154   8.6625   NaN        S  \n",
       "4  22.0      1      1  3101298  12.2875   NaN        S  \n",
       "5  14.0      0      0     7538   9.2250   NaN        S  "
      ]
     },
     "execution_count": 80,
     "metadata": {},
     "output_type": "execute_result"
    }
   ],
   "source": [
    "test[:6]"
   ]
  },
  {
   "cell_type": "code",
   "execution_count": 84,
   "metadata": {},
   "outputs": [
    {
     "data": {
      "text/plain": [
       "PassengerId      0\n",
       "Survived         0\n",
       "Pclass           0\n",
       "Name             0\n",
       "Sex              0\n",
       "Age              0\n",
       "SibSp            0\n",
       "Parch            0\n",
       "Ticket           0\n",
       "Fare             0\n",
       "Cabin          687\n",
       "Embarked         2\n",
       "dtype: int64"
      ]
     },
     "execution_count": 84,
     "metadata": {},
     "output_type": "execute_result"
    }
   ],
   "source": [
    "train.isnull().sum()"
   ]
  },
  {
   "cell_type": "code",
   "execution_count": 85,
   "metadata": {},
   "outputs": [
    {
     "data": {
      "text/plain": [
       "PassengerId      0\n",
       "Pclass           0\n",
       "Name             0\n",
       "Sex              0\n",
       "Age              0\n",
       "SibSp            0\n",
       "Parch            0\n",
       "Ticket           0\n",
       "Fare             1\n",
       "Cabin          327\n",
       "Embarked         0\n",
       "dtype: int64"
      ]
     },
     "execution_count": 85,
     "metadata": {},
     "output_type": "execute_result"
    }
   ],
   "source": [
    "test.isnull().sum()"
   ]
  },
  {
   "cell_type": "code",
   "execution_count": 83,
   "metadata": {},
   "outputs": [],
   "source": [
    "# use the median age of the training dataset to fill the nulls in both tables\n",
    "# iMpute = 插補\n",
    "impute_value = train['Age'].median()\n",
    "train['Age'] = train['Age'].fillna(impute_value)\n",
    "test['Age'] = test['Age'].fillna(impute_value)"
   ]
  },
  {
   "cell_type": "code",
   "execution_count": null,
   "metadata": {},
   "outputs": [],
   "source": [
    "# impute_value"
   ]
  },
  {
   "cell_type": "code",
   "execution_count": 86,
   "metadata": {},
   "outputs": [
    {
     "data": {
      "text/plain": [
       "0      male\n",
       "1    female\n",
       "2    female\n",
       "3    female\n",
       "4      male\n",
       "Name: Sex, dtype: object"
      ]
     },
     "execution_count": 86,
     "metadata": {},
     "output_type": "execute_result"
    }
   ],
   "source": [
    "train['Sex'][:5]"
   ]
  },
  {
   "cell_type": "code",
   "execution_count": 87,
   "metadata": {},
   "outputs": [],
   "source": [
    "train['IsFemale'] = (train['Sex'] == 'female').astype(int)\n",
    "test['IsFemale'] = (test['Sex'] == 'female').astype(int)"
   ]
  },
  {
   "cell_type": "code",
   "execution_count": 88,
   "metadata": {},
   "outputs": [
    {
     "data": {
      "text/plain": [
       "0    0\n",
       "1    1\n",
       "2    1\n",
       "3    1\n",
       "4    0\n",
       "Name: IsFemale, dtype: int32"
      ]
     },
     "execution_count": 88,
     "metadata": {},
     "output_type": "execute_result"
    }
   ],
   "source": [
    "train['IsFemale'][:5]"
   ]
  },
  {
   "cell_type": "code",
   "execution_count": 89,
   "metadata": {},
   "outputs": [
    {
     "data": {
      "text/plain": [
       "array([[ 3.,  0., 22.],\n",
       "       [ 1.,  1., 38.],\n",
       "       [ 3.,  1., 26.],\n",
       "       [ 1.,  1., 35.],\n",
       "       [ 3.,  0., 35.]])"
      ]
     },
     "execution_count": 89,
     "metadata": {},
     "output_type": "execute_result"
    }
   ],
   "source": [
    "predictors = ['Pclass', 'IsFemale', 'Age'] # Pclass => 船票等級\n",
    "X_train = train[predictors].values\n",
    "X_test = test[predictors].values\n",
    "y_train = train['Survived'].values\n",
    "X_train[:5]"
   ]
  },
  {
   "cell_type": "code",
   "execution_count": 90,
   "metadata": {},
   "outputs": [
    {
     "data": {
      "text/plain": [
       "array([[ 3. ,  0. , 34.5],\n",
       "       [ 3. ,  1. , 47. ],\n",
       "       [ 2. ,  0. , 62. ],\n",
       "       ...,\n",
       "       [ 3. ,  0. , 38.5],\n",
       "       [ 3. ,  0. , 28. ],\n",
       "       [ 3. ,  0. , 28. ]])"
      ]
     },
     "execution_count": 90,
     "metadata": {},
     "output_type": "execute_result"
    }
   ],
   "source": [
    "X_test"
   ]
  },
  {
   "cell_type": "code",
   "execution_count": 91,
   "metadata": {},
   "outputs": [],
   "source": [
    "from sklearn.linear_model import LogisticRegression\n",
    "model = LogisticRegression()"
   ]
  },
  {
   "cell_type": "code",
   "execution_count": 92,
   "metadata": {},
   "outputs": [
    {
     "data": {
      "text/plain": [
       "LogisticRegression()"
      ]
     },
     "execution_count": 92,
     "metadata": {},
     "output_type": "execute_result"
    }
   ],
   "source": [
    "model.fit(X_train, y_train)"
   ]
  },
  {
   "cell_type": "code",
   "execution_count": 93,
   "metadata": {},
   "outputs": [],
   "source": [
    "y_predict = model.predict(X_test)"
   ]
  },
  {
   "cell_type": "code",
   "execution_count": 94,
   "metadata": {},
   "outputs": [
    {
     "data": {
      "text/plain": [
       "array([0, 0, 0, 0, 1, 0, 1, 0, 1, 0], dtype=int64)"
      ]
     },
     "execution_count": 94,
     "metadata": {},
     "output_type": "execute_result"
    }
   ],
   "source": [
    "y_predict[:10]"
   ]
  },
  {
   "cell_type": "code",
   "execution_count": 95,
   "metadata": {},
   "outputs": [
    {
     "data": {
      "text/html": [
       "<div>\n",
       "<style scoped>\n",
       "    .dataframe tbody tr th:only-of-type {\n",
       "        vertical-align: middle;\n",
       "    }\n",
       "\n",
       "    .dataframe tbody tr th {\n",
       "        vertical-align: top;\n",
       "    }\n",
       "\n",
       "    .dataframe thead th {\n",
       "        text-align: right;\n",
       "    }\n",
       "</style>\n",
       "<table border=\"1\" class=\"dataframe\">\n",
       "  <thead>\n",
       "    <tr style=\"text-align: right;\">\n",
       "      <th></th>\n",
       "      <th>PassengerId</th>\n",
       "      <th>Pclass</th>\n",
       "      <th>Name</th>\n",
       "      <th>Sex</th>\n",
       "      <th>Age</th>\n",
       "      <th>SibSp</th>\n",
       "      <th>Parch</th>\n",
       "      <th>Ticket</th>\n",
       "      <th>Fare</th>\n",
       "      <th>Cabin</th>\n",
       "      <th>Embarked</th>\n",
       "      <th>IsFemale</th>\n",
       "    </tr>\n",
       "  </thead>\n",
       "  <tbody>\n",
       "    <tr>\n",
       "      <th>0</th>\n",
       "      <td>892</td>\n",
       "      <td>3</td>\n",
       "      <td>Kelly, Mr. James</td>\n",
       "      <td>male</td>\n",
       "      <td>34.5</td>\n",
       "      <td>0</td>\n",
       "      <td>0</td>\n",
       "      <td>330911</td>\n",
       "      <td>7.8292</td>\n",
       "      <td>NaN</td>\n",
       "      <td>Q</td>\n",
       "      <td>0</td>\n",
       "    </tr>\n",
       "    <tr>\n",
       "      <th>1</th>\n",
       "      <td>893</td>\n",
       "      <td>3</td>\n",
       "      <td>Wilkes, Mrs. James (Ellen Needs)</td>\n",
       "      <td>female</td>\n",
       "      <td>47.0</td>\n",
       "      <td>1</td>\n",
       "      <td>0</td>\n",
       "      <td>363272</td>\n",
       "      <td>7.0000</td>\n",
       "      <td>NaN</td>\n",
       "      <td>S</td>\n",
       "      <td>1</td>\n",
       "    </tr>\n",
       "    <tr>\n",
       "      <th>2</th>\n",
       "      <td>894</td>\n",
       "      <td>2</td>\n",
       "      <td>Myles, Mr. Thomas Francis</td>\n",
       "      <td>male</td>\n",
       "      <td>62.0</td>\n",
       "      <td>0</td>\n",
       "      <td>0</td>\n",
       "      <td>240276</td>\n",
       "      <td>9.6875</td>\n",
       "      <td>NaN</td>\n",
       "      <td>Q</td>\n",
       "      <td>0</td>\n",
       "    </tr>\n",
       "    <tr>\n",
       "      <th>3</th>\n",
       "      <td>895</td>\n",
       "      <td>3</td>\n",
       "      <td>Wirz, Mr. Albert</td>\n",
       "      <td>male</td>\n",
       "      <td>27.0</td>\n",
       "      <td>0</td>\n",
       "      <td>0</td>\n",
       "      <td>315154</td>\n",
       "      <td>8.6625</td>\n",
       "      <td>NaN</td>\n",
       "      <td>S</td>\n",
       "      <td>0</td>\n",
       "    </tr>\n",
       "    <tr>\n",
       "      <th>4</th>\n",
       "      <td>896</td>\n",
       "      <td>3</td>\n",
       "      <td>Hirvonen, Mrs. Alexander (Helga E Lindqvist)</td>\n",
       "      <td>female</td>\n",
       "      <td>22.0</td>\n",
       "      <td>1</td>\n",
       "      <td>1</td>\n",
       "      <td>3101298</td>\n",
       "      <td>12.2875</td>\n",
       "      <td>NaN</td>\n",
       "      <td>S</td>\n",
       "      <td>1</td>\n",
       "    </tr>\n",
       "  </tbody>\n",
       "</table>\n",
       "</div>"
      ],
      "text/plain": [
       "   PassengerId  Pclass                                          Name     Sex  \\\n",
       "0          892       3                              Kelly, Mr. James    male   \n",
       "1          893       3              Wilkes, Mrs. James (Ellen Needs)  female   \n",
       "2          894       2                     Myles, Mr. Thomas Francis    male   \n",
       "3          895       3                              Wirz, Mr. Albert    male   \n",
       "4          896       3  Hirvonen, Mrs. Alexander (Helga E Lindqvist)  female   \n",
       "\n",
       "    Age  SibSp  Parch   Ticket     Fare Cabin Embarked  IsFemale  \n",
       "0  34.5      0      0   330911   7.8292   NaN        Q         0  \n",
       "1  47.0      1      0   363272   7.0000   NaN        S         1  \n",
       "2  62.0      0      0   240276   9.6875   NaN        Q         0  \n",
       "3  27.0      0      0   315154   8.6625   NaN        S         0  \n",
       "4  22.0      1      1  3101298  12.2875   NaN        S         1  "
      ]
     },
     "execution_count": 95,
     "metadata": {},
     "output_type": "execute_result"
    }
   ],
   "source": [
    "test[:5]"
   ]
  },
  {
   "cell_type": "code",
   "execution_count": 96,
   "metadata": {},
   "outputs": [
    {
     "data": {
      "text/html": [
       "<div>\n",
       "<style scoped>\n",
       "    .dataframe tbody tr th:only-of-type {\n",
       "        vertical-align: middle;\n",
       "    }\n",
       "\n",
       "    .dataframe tbody tr th {\n",
       "        vertical-align: top;\n",
       "    }\n",
       "\n",
       "    .dataframe thead th {\n",
       "        text-align: right;\n",
       "    }\n",
       "</style>\n",
       "<table border=\"1\" class=\"dataframe\">\n",
       "  <thead>\n",
       "    <tr style=\"text-align: right;\">\n",
       "      <th></th>\n",
       "      <th>PassengerId</th>\n",
       "      <th>Survived</th>\n",
       "      <th>Pclass</th>\n",
       "      <th>Name</th>\n",
       "      <th>Sex</th>\n",
       "      <th>Age</th>\n",
       "      <th>SibSp</th>\n",
       "      <th>Parch</th>\n",
       "      <th>Ticket</th>\n",
       "      <th>Fare</th>\n",
       "      <th>Cabin</th>\n",
       "      <th>Embarked</th>\n",
       "      <th>IsFemale</th>\n",
       "    </tr>\n",
       "  </thead>\n",
       "  <tbody>\n",
       "    <tr>\n",
       "      <th>0</th>\n",
       "      <td>1</td>\n",
       "      <td>0</td>\n",
       "      <td>3</td>\n",
       "      <td>Braund, Mr. Owen Harris</td>\n",
       "      <td>male</td>\n",
       "      <td>22.0</td>\n",
       "      <td>1</td>\n",
       "      <td>0</td>\n",
       "      <td>A/5 21171</td>\n",
       "      <td>7.2500</td>\n",
       "      <td>NaN</td>\n",
       "      <td>S</td>\n",
       "      <td>0</td>\n",
       "    </tr>\n",
       "    <tr>\n",
       "      <th>1</th>\n",
       "      <td>2</td>\n",
       "      <td>1</td>\n",
       "      <td>1</td>\n",
       "      <td>Cumings, Mrs. John Bradley (Florence Briggs Th...</td>\n",
       "      <td>female</td>\n",
       "      <td>38.0</td>\n",
       "      <td>1</td>\n",
       "      <td>0</td>\n",
       "      <td>PC 17599</td>\n",
       "      <td>71.2833</td>\n",
       "      <td>C85</td>\n",
       "      <td>C</td>\n",
       "      <td>1</td>\n",
       "    </tr>\n",
       "    <tr>\n",
       "      <th>2</th>\n",
       "      <td>3</td>\n",
       "      <td>1</td>\n",
       "      <td>3</td>\n",
       "      <td>Heikkinen, Miss. Laina</td>\n",
       "      <td>female</td>\n",
       "      <td>26.0</td>\n",
       "      <td>0</td>\n",
       "      <td>0</td>\n",
       "      <td>STON/O2. 3101282</td>\n",
       "      <td>7.9250</td>\n",
       "      <td>NaN</td>\n",
       "      <td>S</td>\n",
       "      <td>1</td>\n",
       "    </tr>\n",
       "    <tr>\n",
       "      <th>3</th>\n",
       "      <td>4</td>\n",
       "      <td>1</td>\n",
       "      <td>1</td>\n",
       "      <td>Futrelle, Mrs. Jacques Heath (Lily May Peel)</td>\n",
       "      <td>female</td>\n",
       "      <td>35.0</td>\n",
       "      <td>1</td>\n",
       "      <td>0</td>\n",
       "      <td>113803</td>\n",
       "      <td>53.1000</td>\n",
       "      <td>C123</td>\n",
       "      <td>S</td>\n",
       "      <td>1</td>\n",
       "    </tr>\n",
       "    <tr>\n",
       "      <th>4</th>\n",
       "      <td>5</td>\n",
       "      <td>0</td>\n",
       "      <td>3</td>\n",
       "      <td>Allen, Mr. William Henry</td>\n",
       "      <td>male</td>\n",
       "      <td>35.0</td>\n",
       "      <td>0</td>\n",
       "      <td>0</td>\n",
       "      <td>373450</td>\n",
       "      <td>8.0500</td>\n",
       "      <td>NaN</td>\n",
       "      <td>S</td>\n",
       "      <td>0</td>\n",
       "    </tr>\n",
       "  </tbody>\n",
       "</table>\n",
       "</div>"
      ],
      "text/plain": [
       "   PassengerId  Survived  Pclass  \\\n",
       "0            1         0       3   \n",
       "1            2         1       1   \n",
       "2            3         1       3   \n",
       "3            4         1       1   \n",
       "4            5         0       3   \n",
       "\n",
       "                                                Name     Sex   Age  SibSp  \\\n",
       "0                            Braund, Mr. Owen Harris    male  22.0      1   \n",
       "1  Cumings, Mrs. John Bradley (Florence Briggs Th...  female  38.0      1   \n",
       "2                             Heikkinen, Miss. Laina  female  26.0      0   \n",
       "3       Futrelle, Mrs. Jacques Heath (Lily May Peel)  female  35.0      1   \n",
       "4                           Allen, Mr. William Henry    male  35.0      0   \n",
       "\n",
       "   Parch            Ticket     Fare Cabin Embarked  IsFemale  \n",
       "0      0         A/5 21171   7.2500   NaN        S         0  \n",
       "1      0          PC 17599  71.2833   C85        C         1  \n",
       "2      0  STON/O2. 3101282   7.9250   NaN        S         1  \n",
       "3      0            113803  53.1000  C123        S         1  \n",
       "4      0            373450   8.0500   NaN        S         0  "
      ]
     },
     "execution_count": 96,
     "metadata": {},
     "output_type": "execute_result"
    }
   ],
   "source": [
    "train[:5]"
   ]
  },
  {
   "cell_type": "markdown",
   "metadata": {},
   "source": [
    "如果要知道預測得準不準，就用：\n",
    "```python\n",
    "(y_true == y_predict).mean()\n",
    "```"
   ]
  },
  {
   "cell_type": "code",
   "execution_count": 97,
   "metadata": {},
   "outputs": [
    {
     "data": {
      "text/plain": [
       "array([0, 1, 1, 1, 0, 0, 0, 0, 1, 1, 1, 1, 0, 0, 1, 1, 0, 0, 1, 1],\n",
       "      dtype=int64)"
      ]
     },
     "execution_count": 97,
     "metadata": {},
     "output_type": "execute_result"
    }
   ],
   "source": [
    "# 至少我們先看一下 in-sample fit 的效果如何\n",
    "y_predict = model.predict(X_train)\n",
    "y_predict[:20]"
   ]
  },
  {
   "cell_type": "code",
   "execution_count": 98,
   "metadata": {},
   "outputs": [
    {
     "data": {
      "text/plain": [
       "array([0, 1, 1, 1, 0, 0, 0, 0, 1, 1, 1, 1, 0, 0, 0, 1, 0, 1, 0, 1],\n",
       "      dtype=int64)"
      ]
     },
     "execution_count": 98,
     "metadata": {},
     "output_type": "execute_result"
    }
   ],
   "source": [
    "y_train[:20]"
   ]
  },
  {
   "cell_type": "markdown",
   "metadata": {},
   "source": [
    "```python\n",
    "(y_true == y_predict).mean()\n",
    "```"
   ]
  },
  {
   "cell_type": "code",
   "execution_count": 99,
   "metadata": {},
   "outputs": [
    {
     "data": {
      "text/plain": [
       "0.21212121212121213"
      ]
     },
     "execution_count": 99,
     "metadata": {},
     "output_type": "execute_result"
    }
   ],
   "source": [
    "from sklearn.metrics import mean_squared_error\n",
    "mean_squared_error(y_train,y_predict)"
   ]
  },
  {
   "cell_type": "code",
   "execution_count": 101,
   "metadata": {},
   "outputs": [
    {
     "data": {
      "text/plain": [
       "0.4605661864718383"
      ]
     },
     "execution_count": 101,
     "metadata": {},
     "output_type": "execute_result"
    }
   ],
   "source": [
    "np.sqrt(0.21212121212121213)"
   ]
  },
  {
   "cell_type": "code",
   "execution_count": null,
   "metadata": {},
   "outputs": [],
   "source": [
    "# LogisticRegression?"
   ]
  },
  {
   "cell_type": "code",
   "execution_count": null,
   "metadata": {},
   "outputs": [],
   "source": []
  },
  {
   "cell_type": "code",
   "execution_count": 102,
   "metadata": {},
   "outputs": [
    {
     "data": {
      "text/plain": [
       "LogisticRegressionCV(cv=10)"
      ]
     },
     "execution_count": 102,
     "metadata": {},
     "output_type": "execute_result"
    }
   ],
   "source": [
    "from sklearn.linear_model import LogisticRegressionCV\n",
    "model_cv = LogisticRegressionCV(cv = 10)\n",
    "model_cv.fit(X_train, y_train)"
   ]
  },
  {
   "cell_type": "code",
   "execution_count": 103,
   "metadata": {},
   "outputs": [],
   "source": [
    "LogisticRegressionCV?"
   ]
  },
  {
   "cell_type": "markdown",
   "metadata": {},
   "source": [
    "### 3.1. Cross-validation: evaluating estimator performance¶\n",
    "https://scikit-learn.org/stable/modules/cross_validation.html"
   ]
  },
  {
   "cell_type": "markdown",
   "metadata": {},
   "source": [
    "![cv](grid_search_cross_validation.png)"
   ]
  },
  {
   "cell_type": "code",
   "execution_count": 104,
   "metadata": {},
   "outputs": [
    {
     "data": {
      "text/plain": [
       "array([0.7758, 0.7982, 0.7758, 0.7883])"
      ]
     },
     "execution_count": 104,
     "metadata": {},
     "output_type": "execute_result"
    }
   ],
   "source": [
    "from sklearn.model_selection import cross_val_score\n",
    "model = LogisticRegression(C=10) # C => Inverse of regularization strength, smaller values specify stronger regularization.\n",
    "scores = cross_val_score(model, X_train, y_train, cv=4, scoring='accuracy')\n",
    "scores"
   ]
  },
  {
   "cell_type": "code",
   "execution_count": null,
   "metadata": {},
   "outputs": [],
   "source": [
    "# cross_val_score?"
   ]
  },
  {
   "cell_type": "markdown",
   "metadata": {},
   "source": [
    "## Continuing Your Education"
   ]
  },
  {
   "cell_type": "code",
   "execution_count": null,
   "metadata": {},
   "outputs": [],
   "source": []
  }
 ],
 "metadata": {
  "kernelspec": {
   "display_name": "Python 3 (ipykernel)",
   "language": "python",
   "name": "python3"
  },
  "language_info": {
   "codemirror_mode": {
    "name": "ipython",
    "version": 3
   },
   "file_extension": ".py",
   "mimetype": "text/x-python",
   "name": "python",
   "nbconvert_exporter": "python",
   "pygments_lexer": "ipython3",
   "version": "3.7.1"
  }
 },
 "nbformat": 4,
 "nbformat_minor": 1
}
